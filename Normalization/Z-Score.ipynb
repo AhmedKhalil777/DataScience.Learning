{
 "cells": [
  {
   "cell_type": "code",
   "execution_count": 1,
   "metadata": {},
   "outputs": [],
   "source": [
    "import numpy as np\n",
    "import scipy.stats as st\n"
   ]
  },
  {
   "cell_type": "code",
   "execution_count": 2,
   "metadata": {},
   "outputs": [],
   "source": [
    "loans =  np.array([40000, 60000, 80000,20000,120000,18000,95000,62000,100000,220000,150000])\n"
   ]
  },
  {
   "cell_type": "code",
   "execution_count": 3,
   "metadata": {},
   "outputs": [
    {
     "output_type": "execute_result",
     "data": {
      "text/plain": "array([-0.83618447, -0.48578336, -0.13538225, -1.18658558,  0.56541997,\n       -1.22162569,  0.12741859, -0.45074325,  0.21501886,  2.31742552,\n        1.09102164])"
     },
     "metadata": {},
     "execution_count": 3
    }
   ],
   "source": [
    "st.zscore(loans)"
   ]
  },
  {
   "cell_type": "code",
   "execution_count": 4,
   "metadata": {},
   "outputs": [],
   "source": [
    "from sklearn.preprocessing import MinMaxScaler\n"
   ]
  },
  {
   "cell_type": "code",
   "execution_count": 9,
   "metadata": {},
   "outputs": [],
   "source": [
    "scaler = MinMaxScaler()\n",
    "list = [40000, 60000, 80000,20000,120000,18000,95000,62000,100000,220000,150000]\n",
    "x_min =  np.min(loans)\n",
    "x_max =  np.max(loans)"
   ]
  },
  {
   "cell_type": "code",
   "execution_count": 13,
   "metadata": {},
   "outputs": [
    {
     "output_type": "execute_result",
     "data": {
      "text/plain": "[24.356435643564357,\n 28.316831683168317,\n 32.27722772277228,\n 20.396039603960396,\n 40.198019801980195,\n 20.0,\n 35.24752475247524,\n 28.712871287128714,\n 36.23762376237624,\n 60.0,\n 46.13861386138614]"
     },
     "metadata": {},
     "execution_count": 13
    }
   ],
   "source": [
    "n_loans =  []\n",
    "loans =  np.array([40000, 60000, 80000,20000,120000,18000,95000,62000,100000,220000,150000])\n",
    "for x in loans:\n",
    "    n_loans.append((x-x_min)/(x_max-x_min)*(60-20)+20)\n",
    "n_loans"
   ]
  },
  {
   "cell_type": "code",
   "execution_count": null,
   "metadata": {},
   "outputs": [],
   "source": [
    "\n",
    "n_distance = []"
   ]
  }
 ],
 "metadata": {
  "language_info": {
   "codemirror_mode": {
    "name": "ipython",
    "version": 3
   },
   "file_extension": ".py",
   "mimetype": "text/x-python",
   "name": "python",
   "nbconvert_exporter": "python",
   "pygments_lexer": "ipython3",
   "version": "3.7.4-final"
  },
  "orig_nbformat": 2,
  "kernelspec": {
   "name": "python3",
   "display_name": "Python 3"
  }
 },
 "nbformat": 4,
 "nbformat_minor": 2
}