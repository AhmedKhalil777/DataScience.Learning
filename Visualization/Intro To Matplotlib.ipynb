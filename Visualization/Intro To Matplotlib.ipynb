{
 "nbformat": 4,
 "nbformat_minor": 2,
 "metadata": {
  "language_info": {
   "name": "python",
   "codemirror_mode": {
    "name": "ipython",
    "version": 3
   },
   "version": "3.7.4-final"
  },
  "orig_nbformat": 2,
  "file_extension": ".py",
  "mimetype": "text/x-python",
  "name": "python",
  "npconvert_exporter": "python",
  "pygments_lexer": "ipython3",
  "version": 3,
  "kernelspec": {
   "name": "python3",
   "display_name": "Python 3"
  }
 },
 "cells": [
  {
   "cell_type": "markdown",
   "metadata": {},
   "source": [
    "# Matplotlib What is Architecture ?\n",
    "\n",
    "![](PICS/MatplotlibArch.png)\n",
    "\n",
    "## The Architecture containing 3 Layers:\n",
    "\n",
    "- The Backend Layer  has three built-in abstract interface classes: \n",
    "\n",
    "    - FigureCanvas, which defines and encompasses the area on which the figure is drawn.\n",
    "    \n",
    "    - Renderer, an instance of the renderer class knows how to draw on the figure canvas. \n",
    "    - Event, which handles user inputs such as keyboard strokes and mouse clicks.\n",
    "- The Artist Layer : composed of one main object, which is the Artist.\n",
    "\n",
    "    - The Artist is the object that knows how to take the Renderer and use it to put ink on the canvas.\n",
    "\n",
    "    - Everything you see on a Matplotlib figure is an Artist instance. \n",
    "        - The title, the lines, the tick labels, the images, and so on, all correspond to an individual Artist. There are two types of Artist objects.\n",
    "        - The first type is the __primitive type__, such as a line, a rectangle, a circle, or text.\n",
    "        - And the second type is the __composite type__ , such as the figure or the axes.\n",
    "    - The top-level Matplotlib object that contains and manages all of the elements in a given graphic is the __figure__ Artist, and the most important composite artist is the __axes__ because it is where most of the Matplotlib API plotting methods are defined, including methods to create and manipulate the ticks, the axis lines, the grid or the plot background.\n",
    "    - Now it is important to note that each composite artist may contain other composite artists as well as primitive artists.\n",
    "    - So a figure artist for example would contain an axis artist as well as a rectangle or text artists. \n",
    "    - Now let's put the artist layer to use and see how we can use it to generate a graphic. \n",
    "\n",
    "\n",
    "- The Scripting Layer : which is the appropriate layer for everyday purposes and is considered a lighter scripting interface to simplify common tasks and for a quick and easy generation of graphics and plots.\n",
    "\n",
    "## Coding\n",
    "let's try to generate a histogram of 10,000 random numbers using the artist layer.\n",
    "First we import the figure canvas from the backend backend underscore agg\n",
    "and attach the figure artist to it. Note that agg stands for anti grain geometry\n",
    "which is a high-performance library that produces attractive images. Then we\n",
    "import the Numpy library to generate the random numbers. Next we create an axes\n",
    "artist. The axes artist is added automatically to the figure axes\n",
    "\n"
   ]
  },
  {
   "cell_type": "markdown",
   "metadata": {},
   "source": [
    "# first using scripting layer not recommended for users"
   ]
  },
  {
   "cell_type": "code",
   "execution_count": 28,
   "metadata": {},
   "outputs": [],
   "source": [
    "from matplotlib.backends.backend_agg import FigureCanvasAgg as FC\n",
    "from matplotlib.figure import Figure # import figure artist\n",
    ""
   ]
  },
  {
   "cell_type": "code",
   "execution_count": 29,
   "metadata": {},
   "outputs": [],
   "source": [
    "fig = Figure()\n",
    "canvas = FC(fig)"
   ]
  },
  {
   "cell_type": "code",
   "execution_count": 30,
   "metadata": {},
   "outputs": [],
   "source": [
    "import numpy as np\n",
    "\n",
    "x = np.random.randn(10000)"
   ]
  },
  {
   "cell_type": "markdown",
   "metadata": {},
   "source": [
    "## 111 means:\n",
    "- 1 column \n",
    "- 1 row \n",
    "- the first cell access\n",
    "\n",
    "## 100 means: \n",
    "- 100 bins for the histogram"
   ]
  },
  {
   "cell_type": "code",
   "execution_count": 31,
   "metadata": {},
   "outputs": [],
   "source": [
    "\n",
    "ax = fig.add_subplot(111)"
   ]
  },
  {
   "cell_type": "code",
   "execution_count": 32,
   "metadata": {},
   "outputs": [
    {
     "output_type": "execute_result",
     "data": {
      "text/plain": "(array([  1.,   0.,   0.,   0.,   1.,   0.,   0.,   0.,   2.,   3.,   3.,\n          3.,   4.,   5.,   8.,  11.,  12.,  19.,  18.,  25.,  33.,  27.,\n         31.,  36.,  50.,  58.,  76.,  81.,  76., 106., 140., 117., 124.,\n        145., 184., 212., 194., 231., 243., 251., 250., 263., 266., 306.,\n        316., 295., 330., 325., 329., 351., 343., 309., 333., 297., 296.,\n        262., 282., 243., 214., 202., 212., 187., 167., 166., 142., 111.,\n         95.,  75.,  80.,  66.,  53.,  45.,  59.,  37.,  27.,  27.,  19.,\n         16.,  17.,  16.,  11.,   4.,   7.,   4.,   5.,   3.,   0.,   1.,\n          2.,   1.,   0.,   0.,   1.,   0.,   0.,   0.,   0.,   0.,   0.,\n          2.]),\n array([-3.93766817, -3.85581195, -3.77395573, -3.69209952, -3.6102433 ,\n        -3.52838708, -3.44653086, -3.36467465, -3.28281843, -3.20096221,\n        -3.119106  , -3.03724978, -2.95539356, -2.87353734, -2.79168113,\n        -2.70982491, -2.62796869, -2.54611248, -2.46425626, -2.38240004,\n        -2.30054382, -2.21868761, -2.13683139, -2.05497517, -1.97311896,\n        -1.89126274, -1.80940652, -1.7275503 , -1.64569409, -1.56383787,\n        -1.48198165, -1.40012543, -1.31826922, -1.236413  , -1.15455678,\n        -1.07270057, -0.99084435, -0.90898813, -0.82713191, -0.7452757 ,\n        -0.66341948, -0.58156326, -0.49970705, -0.41785083, -0.33599461,\n        -0.25413839, -0.17228218, -0.09042596, -0.00856974,  0.07328647,\n         0.15514269,  0.23699891,  0.31885513,  0.40071134,  0.48256756,\n         0.56442378,  0.64628   ,  0.72813621,  0.80999243,  0.89184865,\n         0.97370486,  1.05556108,  1.1374173 ,  1.21927352,  1.30112973,\n         1.38298595,  1.46484217,  1.54669838,  1.6285546 ,  1.71041082,\n         1.79226704,  1.87412325,  1.95597947,  2.03783569,  2.1196919 ,\n         2.20154812,  2.28340434,  2.36526056,  2.44711677,  2.52897299,\n         2.61082921,  2.69268542,  2.77454164,  2.85639786,  2.93825408,\n         3.02011029,  3.10196651,  3.18382273,  3.26567895,  3.34753516,\n         3.42939138,  3.5112476 ,  3.59310381,  3.67496003,  3.75681625,\n         3.83867247,  3.92052868,  4.0023849 ,  4.08424112,  4.16609733,\n         4.24795355]),\n <a list of 100 Patch objects>)"
     },
     "metadata": {},
     "execution_count": 32
    }
   ],
   "source": [
    "ax.hist(x, 100)"
   ]
  },
  {
   "cell_type": "code",
   "execution_count": 33,
   "metadata": {},
   "outputs": [],
   "source": [
    "ax.set_title(\"the normal distribution with $\\mu = 0 \\sigma = 1$\")\n",
    "fig.savefig('PICS/SLayer_matplotlib_hist.png')"
   ]
  },
  {
   "cell_type": "markdown",
   "metadata": {},
   "source": [
    "Here is the figure\n",
    "- ![](PICS\\PyplotAPI_matplotlib_hist.png)"
   ]
  },
  {
   "cell_type": "markdown",
   "metadata": {},
   "source": [
    "# Using the pyplot API "
   ]
  },
  {
   "cell_type": "code",
   "execution_count": 34,
   "metadata": {},
   "outputs": [
    {
     "output_type": "display_data",
     "data": {
      "text/plain": "<Figure size 432x288 with 1 Axes>",
      "image/png": "[encoded data removed]"
     },
     "metadata": {
      "needs_background": "light"
     }
    }
   ],
   "source": [
    "import matplotlib.pyplot as plt\n",
    "\n",
    "plt.hist(x,100)\n",
    "plt.title(r'the normal distribution with $\\mu = 0 \\sigma = 1$')\n",
    "plt.savefig('PICS/PyplotAPI_matplotlib_hist.png')\n",
    "plt.show()"
   ]
  },
  {
   "cell_type": "code",
   "execution_count": null,
   "metadata": {},
   "outputs": [],
   "source": []
  }
 ]
}