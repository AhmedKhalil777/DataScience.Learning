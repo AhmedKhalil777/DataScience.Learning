{
 "nbformat": 4,
 "nbformat_minor": 2,
 "metadata": {
  "language_info": {
   "name": "python",
   "codemirror_mode": {
    "name": "ipython",
    "version": 3
   },
   "version": "3.7.4-final"
  },
  "orig_nbformat": 2,
  "file_extension": ".py",
  "mimetype": "text/x-python",
  "name": "python",
  "npconvert_exporter": "python",
  "pygments_lexer": "ipython3",
  "version": 3,
  "kernelspec": {
   "name": "python3",
   "display_name": "Python 3"
  }
 },
 "cells": [
  {
   "cell_type": "markdown",
   "metadata": {},
   "source": [
    "# Frequent Pattern Study\n",
    "## Litratures \n",
    "\n",
    "|Name|Source|\n",
    "|:-|:-|\n",
    "|Frequent Pattern Mining Charu C. Aggarwal, Jiawei Han | [![](../Litrature_Reviews/freq.PNG)]() |\n",
    "|Frequent Itemsets via Apriori Algorithm|[Github User Guide for mlxtend](http://rasbt.github.io/mlxtend/user_guide/frequent_patterns/apriori/)|\n",
    "\n",
    "## Frequent Pattern using Apriori Algorithm\n",
    "\n",
    "### Apriori function : \n",
    "- is an algorithm for frequent item set mining and association rule learning over relational databases.\n",
    "- It proceeds by identifying the frequent individual items in the database and extending them to larger and larger item sets as long as those item sets appear sufficiently often in the database.\n",
    "\n",
    "\n"
   ]
  },
  {
   "cell_type": "markdown",
   "metadata": {},
   "source": [
    "# Example 1 -- Generating Frequent Itemsets\n",
    "\n",
    "The apriori function expects data in a `one-hot` encoded pandas DataFrame. Suppose we have the following transaction data:\n"
   ]
  },
  {
   "cell_type": "code",
   "execution_count": 1,
   "metadata": {},
   "outputs": [],
   "source": [
    "dataset = [['Milk', 'Onion', 'Nutmeg', 'Kidney Beans', 'Eggs', 'Yogurt'],\n",
    "           ['Dill', 'Onion', 'Nutmeg', 'Kidney Beans', 'Eggs', 'Yogurt'],\n",
    "           ['Milk', 'Apple', 'Kidney Beans', 'Eggs'],\n",
    "           ['Milk', 'Unicorn', 'Corn', 'Kidney Beans', 'Yogurt'],\n",
    "           ['Corn', 'Onion', 'Onion', 'Kidney Beans', 'Ice cream', 'Eggs']]"
   ]
  },
  {
   "cell_type": "markdown",
   "metadata": {},
   "source": [
    "- We can transform it into the right format via the TransactionEncoder as follows:"
   ]
  },
  {
   "cell_type": "code",
   "execution_count": 37,
   "metadata": {},
   "outputs": [],
   "source": [
    "import pandas as pd\n",
    "from mlxtend.preprocessing import TransactionEncoder\n",
    ""
   ]
  },
  {
   "cell_type": "code",
   "execution_count": 3,
   "metadata": {},
   "outputs": [
    {
     "output_type": "execute_result",
     "data": {
      "text/plain": "   Apple   Corn   Dill   Eggs  Ice cream  Kidney Beans   Milk  Nutmeg  Onion  \\\n0  False  False  False   True      False          True   True    True   True   \n1  False  False   True   True      False          True  False    True   True   \n2   True  False  False   True      False          True   True   False  False   \n3  False   True  False  False      False          True   True   False  False   \n4  False   True  False   True       True          True  False   False   True   \n\n   Unicorn  Yogurt  \n0    False    True  \n1    False    True  \n2    False   False  \n3     True    True  \n4    False   False  ",
      "text/html": "<div>\n<style scoped>\n    .dataframe tbody tr th:only-of-type {\n        vertical-align: middle;\n    }\n\n    .dataframe tbody tr th {\n        vertical-align: top;\n    }\n\n    .dataframe thead th {\n        text-align: right;\n    }\n</style>\n<table border=\"1\" class=\"dataframe\">\n  <thead>\n    <tr style=\"text-align: right;\">\n      <th></th>\n      <th>Apple</th>\n      <th>Corn</th>\n      <th>Dill</th>\n      <th>Eggs</th>\n      <th>Ice cream</th>\n      <th>Kidney Beans</th>\n      <th>Milk</th>\n      <th>Nutmeg</th>\n      <th>Onion</th>\n      <th>Unicorn</th>\n      <th>Yogurt</th>\n    </tr>\n  </thead>\n  <tbody>\n    <tr>\n      <td>0</td>\n      <td>False</td>\n      <td>False</td>\n      <td>False</td>\n      <td>True</td>\n      <td>False</td>\n      <td>True</td>\n      <td>True</td>\n      <td>True</td>\n      <td>True</td>\n      <td>False</td>\n      <td>True</td>\n    </tr>\n    <tr>\n      <td>1</td>\n      <td>False</td>\n      <td>False</td>\n      <td>True</td>\n      <td>True</td>\n      <td>False</td>\n      <td>True</td>\n      <td>False</td>\n      <td>True</td>\n      <td>True</td>\n      <td>False</td>\n      <td>True</td>\n    </tr>\n    <tr>\n      <td>2</td>\n      <td>True</td>\n      <td>False</td>\n      <td>False</td>\n      <td>True</td>\n      <td>False</td>\n      <td>True</td>\n      <td>True</td>\n      <td>False</td>\n      <td>False</td>\n      <td>False</td>\n      <td>False</td>\n    </tr>\n    <tr>\n      <td>3</td>\n      <td>False</td>\n      <td>True</td>\n      <td>False</td>\n      <td>False</td>\n      <td>False</td>\n      <td>True</td>\n      <td>True</td>\n      <td>False</td>\n      <td>False</td>\n      <td>True</td>\n      <td>True</td>\n    </tr>\n    <tr>\n      <td>4</td>\n      <td>False</td>\n      <td>True</td>\n      <td>False</td>\n      <td>True</td>\n      <td>True</td>\n      <td>True</td>\n      <td>False</td>\n      <td>False</td>\n      <td>True</td>\n      <td>False</td>\n      <td>False</td>\n    </tr>\n  </tbody>\n</table>\n</div>"
     },
     "metadata": {},
     "execution_count": 3
    }
   ],
   "source": [
    "te = TransactionEncoder()\n",
    "# The fit method is to learn what is the item to transaction\n",
    "# the transform method is to Transform transactions into a one-hot encoded NumPy array.\n",
    "te_ary = te.fit(dataset).transform(dataset)\n",
    "df = pd.DataFrame(te_ary, columns=te.columns_)\n",
    "df"
   ]
  },
  {
   "cell_type": "markdown",
   "metadata": {},
   "source": [
    "- Imagine that we need the min-support for transactions that fit 60%\n",
    "- apriori function Get frequent itemsets from a one-hot DataFrame\n"
   ]
  },
  {
   "cell_type": "code",
   "execution_count": 4,
   "metadata": {},
   "outputs": [
    {
     "output_type": "execute_result",
     "data": {
      "text/plain": "    support                     itemsets\n0       0.8                       (Eggs)\n1       1.0               (Kidney Beans)\n2       0.6                       (Milk)\n3       0.6                      (Onion)\n4       0.6                     (Yogurt)\n5       0.8         (Kidney Beans, Eggs)\n6       0.6                (Eggs, Onion)\n7       0.6         (Kidney Beans, Milk)\n8       0.6        (Kidney Beans, Onion)\n9       0.6       (Kidney Beans, Yogurt)\n10      0.6  (Kidney Beans, Eggs, Onion)",
      "text/html": "<div>\n<style scoped>\n    .dataframe tbody tr th:only-of-type {\n        vertical-align: middle;\n    }\n\n    .dataframe tbody tr th {\n        vertical-align: top;\n    }\n\n    .dataframe thead th {\n        text-align: right;\n    }\n</style>\n<table border=\"1\" class=\"dataframe\">\n  <thead>\n    <tr style=\"text-align: right;\">\n      <th></th>\n      <th>support</th>\n      <th>itemsets</th>\n    </tr>\n  </thead>\n  <tbody>\n    <tr>\n      <td>0</td>\n      <td>0.8</td>\n      <td>(Eggs)</td>\n    </tr>\n    <tr>\n      <td>1</td>\n      <td>1.0</td>\n      <td>(Kidney Beans)</td>\n    </tr>\n    <tr>\n      <td>2</td>\n      <td>0.6</td>\n      <td>(Milk)</td>\n    </tr>\n    <tr>\n      <td>3</td>\n      <td>0.6</td>\n      <td>(Onion)</td>\n    </tr>\n    <tr>\n      <td>4</td>\n      <td>0.6</td>\n      <td>(Yogurt)</td>\n    </tr>\n    <tr>\n      <td>5</td>\n      <td>0.8</td>\n      <td>(Kidney Beans, Eggs)</td>\n    </tr>\n    <tr>\n      <td>6</td>\n      <td>0.6</td>\n      <td>(Eggs, Onion)</td>\n    </tr>\n    <tr>\n      <td>7</td>\n      <td>0.6</td>\n      <td>(Kidney Beans, Milk)</td>\n    </tr>\n    <tr>\n      <td>8</td>\n      <td>0.6</td>\n      <td>(Kidney Beans, Onion)</td>\n    </tr>\n    <tr>\n      <td>9</td>\n      <td>0.6</td>\n      <td>(Kidney Beans, Yogurt)</td>\n    </tr>\n    <tr>\n      <td>10</td>\n      <td>0.6</td>\n      <td>(Kidney Beans, Eggs, Onion)</td>\n    </tr>\n  </tbody>\n</table>\n</div>"
     },
     "metadata": {},
     "execution_count": 4
    }
   ],
   "source": [
    "from mlxtend.frequent_patterns import apriori\n",
    "\n",
    "apriori(df, min_support=0.6 , use_colnames=True)"
   ]
  },
  {
   "cell_type": "markdown",
   "metadata": {},
   "source": [
    "-  that means `Eggs` is frequently 80% repeated in all transactions and `Beans` is the Most frequent item with 100% "
   ]
  },
  {
   "cell_type": "markdown",
   "metadata": {},
   "source": [
    "# Association Rules Generation from Frequent Itemsets"
   ]
  },
  {
   "cell_type": "markdown",
   "metadata": {},
   "source": [
    "`Rule generation` is a common task in the mining of frequent patterns.\n",
    "-  An association rule is an implication expression of the form X → Y, where X and Y are disjoint itemsets"
   ]
  },
  {
   "cell_type": "markdown",
   "metadata": {},
   "source": [
    "A more concrete example based on consumer behaviour would be `{Diapers}→{Beer}` suggesting that people who buy diapers are also likely to buy beer. \n",
    "- To evaluate the \"interest\" of such an association rule, different `metrics` have been developed. The current implementation make use of the `confidence` and `lift` metrics."
   ]
  },
  {
   "cell_type": "markdown",
   "metadata": {},
   "source": [
    "'support':\n",
    "$support(A→C)=support(A∪C),range: [0,1]$"
   ]
  },
  {
   "cell_type": "markdown",
   "metadata": {},
   "source": [
    "The `support` metric is defined for itemsets, not assocication rules. \n",
    "- The table produced by the association rule mining algorithm contains three different support metrics: \n",
    "    - 'antecedent support'\n",
    "    - 'consequent support'\n",
    "    - 'support'\n",
    "\n",
    "> 'antecedent support' computes the proportion of transactions that contain the antecedent A.\n",
    "\n",
    "\n",
    "> 'consequent support' computes the support for the itemset of the consequent C.\n",
    "\n",
    "\n",
    "> The 'support' metric then computes the support of the combined itemset A ∪ C -- \n",
    "    -note that 'support' depends on 'antecedent support' and 'consequent support' via $$min('antecedent support', 'consequent support')$$ "
   ]
  },
  {
   "cell_type": "markdown",
   "metadata": {},
   "source": [
    "Typically, support is used to measure the `abundance` or `frequency` (often interpreted as significance or importance) of an itemset in a database. \n",
    "\n",
    "- We refer to an itemset as a __frequent itemset__ if you support is larger than a specified minimum-support threshold. \n",
    "    - Note that in general, due to the downward closure property, all subsets of a frequent itemset are also frequent.\n",
    "    - here comes the pruning idea for apriori, Open lecture to understand more\n",
    "\n"
   ]
  },
  {
   "cell_type": "markdown",
   "metadata": {},
   "source": [
    "\n",
    "'__confidence__': Let's create the Law with $LaTex$\n",
    "\n",
    "$$ confidence(A→C) = {{support(A→C)} \\over {support(A)}},range: [0,1]$$"
   ]
  },
  {
   "cell_type": "markdown",
   "metadata": {},
   "source": [
    "> The confidence of a rule A->C is the probability of seeing the consequent in a transaction given that it also contains the antecedent. \n",
    "\n",
    "- Note that the metric is not symmetric or directed; for instance, the confidence for A->C is different than the confidence for C->A. \n",
    "- The confidence is 1 (maximal) for a rule A->C if the consequent and antecedent always occur together."
   ]
  },
  {
   "cell_type": "markdown",
   "metadata": {},
   "source": [
    "'lift':\n",
    "$$lift(A→C)={{confidence(A→C)} \\over {support(C)}},range: [0,∞]$$\n",
    "\n",
    "- The lift metric is commonly used to measure how much more often the antecedent and consequent of a rule A->C occur together than we would expect if they were statistically independent. \n",
    "- If A and C are independent, the Lift score will be exactly 1."
   ]
  },
  {
   "cell_type": "code",
   "execution_count": 36,
   "metadata": {},
   "outputs": [
    {
     "output_type": "execute_result",
     "data": {
      "text/plain": "              antecedents            consequents  antecedent support  \\\n0          (Kidney Beans)                 (Eggs)                 1.0   \n1                  (Eggs)         (Kidney Beans)                 0.8   \n2                  (Eggs)                (Onion)                 0.8   \n3                 (Onion)                 (Eggs)                 0.6   \n4                  (Milk)         (Kidney Beans)                 0.6   \n5                 (Onion)         (Kidney Beans)                 0.6   \n6                (Yogurt)         (Kidney Beans)                 0.6   \n7    (Kidney Beans, Eggs)                (Onion)                 0.8   \n8   (Kidney Beans, Onion)                 (Eggs)                 0.6   \n9           (Eggs, Onion)         (Kidney Beans)                 0.6   \n10                 (Eggs)  (Kidney Beans, Onion)                 0.8   \n11                (Onion)   (Kidney Beans, Eggs)                 0.6   \n\n    consequent support  support  confidence  lift  leverage  conviction  \n0                  0.8      0.8        0.80  1.00      0.00         1.0  \n1                  1.0      0.8        1.00  1.00      0.00         inf  \n2                  0.6      0.6        0.75  1.25      0.12         1.6  \n3                  0.8      0.6        1.00  1.25      0.12         inf  \n4                  1.0      0.6        1.00  1.00      0.00         inf  \n5                  1.0      0.6        1.00  1.00      0.00         inf  \n6                  1.0      0.6        1.00  1.00      0.00         inf  \n7                  0.6      0.6        0.75  1.25      0.12         1.6  \n8                  0.8      0.6        1.00  1.25      0.12         inf  \n9                  1.0      0.6        1.00  1.00      0.00         inf  \n10                 0.6      0.6        0.75  1.25      0.12         1.6  \n11                 0.8      0.6        1.00  1.25      0.12         inf  ",
      "text/html": "<div>\n<style scoped>\n    .dataframe tbody tr th:only-of-type {\n        vertical-align: middle;\n    }\n\n    .dataframe tbody tr th {\n        vertical-align: top;\n    }\n\n    .dataframe thead th {\n        text-align: right;\n    }\n</style>\n<table border=\"1\" class=\"dataframe\">\n  <thead>\n    <tr style=\"text-align: right;\">\n      <th></th>\n      <th>antecedents</th>\n      <th>consequents</th>\n      <th>antecedent support</th>\n      <th>consequent support</th>\n      <th>support</th>\n      <th>confidence</th>\n      <th>lift</th>\n      <th>leverage</th>\n      <th>conviction</th>\n    </tr>\n  </thead>\n  <tbody>\n    <tr>\n      <td>0</td>\n      <td>(Kidney Beans)</td>\n      <td>(Eggs)</td>\n      <td>1.0</td>\n      <td>0.8</td>\n      <td>0.8</td>\n      <td>0.80</td>\n      <td>1.00</td>\n      <td>0.00</td>\n      <td>1.0</td>\n    </tr>\n    <tr>\n      <td>1</td>\n      <td>(Eggs)</td>\n      <td>(Kidney Beans)</td>\n      <td>0.8</td>\n      <td>1.0</td>\n      <td>0.8</td>\n      <td>1.00</td>\n      <td>1.00</td>\n      <td>0.00</td>\n      <td>inf</td>\n    </tr>\n    <tr>\n      <td>2</td>\n      <td>(Eggs)</td>\n      <td>(Onion)</td>\n      <td>0.8</td>\n      <td>0.6</td>\n      <td>0.6</td>\n      <td>0.75</td>\n      <td>1.25</td>\n      <td>0.12</td>\n      <td>1.6</td>\n    </tr>\n    <tr>\n      <td>3</td>\n      <td>(Onion)</td>\n      <td>(Eggs)</td>\n      <td>0.6</td>\n      <td>0.8</td>\n      <td>0.6</td>\n      <td>1.00</td>\n      <td>1.25</td>\n      <td>0.12</td>\n      <td>inf</td>\n    </tr>\n    <tr>\n      <td>4</td>\n      <td>(Milk)</td>\n      <td>(Kidney Beans)</td>\n      <td>0.6</td>\n      <td>1.0</td>\n      <td>0.6</td>\n      <td>1.00</td>\n      <td>1.00</td>\n      <td>0.00</td>\n      <td>inf</td>\n    </tr>\n    <tr>\n      <td>5</td>\n      <td>(Onion)</td>\n      <td>(Kidney Beans)</td>\n      <td>0.6</td>\n      <td>1.0</td>\n      <td>0.6</td>\n      <td>1.00</td>\n      <td>1.00</td>\n      <td>0.00</td>\n      <td>inf</td>\n    </tr>\n    <tr>\n      <td>6</td>\n      <td>(Yogurt)</td>\n      <td>(Kidney Beans)</td>\n      <td>0.6</td>\n      <td>1.0</td>\n      <td>0.6</td>\n      <td>1.00</td>\n      <td>1.00</td>\n      <td>0.00</td>\n      <td>inf</td>\n    </tr>\n    <tr>\n      <td>7</td>\n      <td>(Kidney Beans, Eggs)</td>\n      <td>(Onion)</td>\n      <td>0.8</td>\n      <td>0.6</td>\n      <td>0.6</td>\n      <td>0.75</td>\n      <td>1.25</td>\n      <td>0.12</td>\n      <td>1.6</td>\n    </tr>\n    <tr>\n      <td>8</td>\n      <td>(Kidney Beans, Onion)</td>\n      <td>(Eggs)</td>\n      <td>0.6</td>\n      <td>0.8</td>\n      <td>0.6</td>\n      <td>1.00</td>\n      <td>1.25</td>\n      <td>0.12</td>\n      <td>inf</td>\n    </tr>\n    <tr>\n      <td>9</td>\n      <td>(Eggs, Onion)</td>\n      <td>(Kidney Beans)</td>\n      <td>0.6</td>\n      <td>1.0</td>\n      <td>0.6</td>\n      <td>1.00</td>\n      <td>1.00</td>\n      <td>0.00</td>\n      <td>inf</td>\n    </tr>\n    <tr>\n      <td>10</td>\n      <td>(Eggs)</td>\n      <td>(Kidney Beans, Onion)</td>\n      <td>0.8</td>\n      <td>0.6</td>\n      <td>0.6</td>\n      <td>0.75</td>\n      <td>1.25</td>\n      <td>0.12</td>\n      <td>1.6</td>\n    </tr>\n    <tr>\n      <td>11</td>\n      <td>(Onion)</td>\n      <td>(Kidney Beans, Eggs)</td>\n      <td>0.6</td>\n      <td>0.8</td>\n      <td>0.6</td>\n      <td>1.00</td>\n      <td>1.25</td>\n      <td>0.12</td>\n      <td>inf</td>\n    </tr>\n  </tbody>\n</table>\n</div>"
     },
     "metadata": {},
     "execution_count": 36
    }
   ],
   "source": [
    "from mlxtend.frequent_patterns import association_rules\n",
    "\n",
    "frequent_itemsets = apriori(df, min_support=0.6 , use_colnames=True)\n",
    "\n",
    "associationRulesSet =association_rules(frequent_itemsets, metric=\"confidence\", min_threshold=0.7)\n",
    "associationRulesSet"
   ]
  },
  {
   "cell_type": "markdown",
   "metadata": {},
   "source": [
    "- I Wouldn't like to manipulate the frozen sets so we make a list\n",
    "- The Association Rules can be defined as : $$antecedent -> consequent = [ support = # , confidence = #]$$"
   ]
  },
  {
   "cell_type": "code",
   "execution_count": 22,
   "metadata": {},
   "outputs": [
    {
     "output_type": "stream",
     "name": "stdout",
     "text": "1 - ['Kidney Beans'] -> ['Eggs'] = [support = 0.8 , confidence = 0.8, lift =1.0] , dependent = False\n2 - ['Eggs'] -> ['Kidney Beans'] = [support = 0.8 , confidence = 1.0, lift =1.0] , dependent = False\n3 - ['Eggs'] -> ['Onion'] = [support = 0.6 , confidence = 0.7499999999999999, lift =1.2499999999999998] , dependent = True\n4 - ['Onion'] -> ['Eggs'] = [support = 0.6 , confidence = 1.0, lift =1.25] , dependent = True\n5 - ['Milk'] -> ['Kidney Beans'] = [support = 0.6 , confidence = 1.0, lift =1.0] , dependent = False\n6 - ['Onion'] -> ['Kidney Beans'] = [support = 0.6 , confidence = 1.0, lift =1.0] , dependent = False\n7 - ['Yogurt'] -> ['Kidney Beans'] = [support = 0.6 , confidence = 1.0, lift =1.0] , dependent = False\n8 - ['Kidney Beans', 'Eggs'] -> ['Onion'] = [support = 0.6 , confidence = 0.7499999999999999, lift =1.2499999999999998] , dependent = True\n9 - ['Kidney Beans', 'Onion'] -> ['Eggs'] = [support = 0.6 , confidence = 1.0, lift =1.25] , dependent = True\n10 - ['Eggs', 'Onion'] -> ['Kidney Beans'] = [support = 0.6 , confidence = 1.0, lift =1.0] , dependent = False\n11 - ['Eggs'] -> ['Kidney Beans', 'Onion'] = [support = 0.6 , confidence = 0.7499999999999999, lift =1.2499999999999998] , dependent = True\n12 - ['Onion'] -> ['Kidney Beans', 'Eggs'] = [support = 0.6 , confidence = 1.0, lift =1.25] , dependent = True\n"
    }
   ],
   "source": [
    "for i , row in associationRulesSet.iterrows():\n",
    "    print(f\"{i+1} - {list(row.antecedents)} -> {list(row.consequents)} = [support = {row.support} , confidence = {row.confidence}, lift ={row.lift}] , dependent = {row.lift != 1.0}\" )\n",
    "\n",
    "\n",
    ""
   ]
  },
  {
   "cell_type": "code",
   "execution_count": 23,
   "metadata": {},
   "outputs": [
    {
     "output_type": "execute_result",
     "data": {
      "text/plain": "              antecedents            consequents  antecedent support  \\\n0          (Kidney Beans)                 (Eggs)                 1.0   \n1                  (Eggs)         (Kidney Beans)                 0.8   \n2                  (Eggs)                (Onion)                 0.8   \n3                 (Onion)                 (Eggs)                 0.6   \n4                  (Milk)         (Kidney Beans)                 0.6   \n5                 (Onion)         (Kidney Beans)                 0.6   \n6                (Yogurt)         (Kidney Beans)                 0.6   \n7    (Kidney Beans, Eggs)                (Onion)                 0.8   \n8   (Kidney Beans, Onion)                 (Eggs)                 0.6   \n9           (Eggs, Onion)         (Kidney Beans)                 0.6   \n10                 (Eggs)  (Kidney Beans, Onion)                 0.8   \n11                (Onion)   (Kidney Beans, Eggs)                 0.6   \n\n    consequent support  support  confidence  lift  leverage  conviction  \\\n0                  0.8      0.8        0.80  1.00      0.00         1.0   \n1                  1.0      0.8        1.00  1.00      0.00         inf   \n2                  0.6      0.6        0.75  1.25      0.12         1.6   \n3                  0.8      0.6        1.00  1.25      0.12         inf   \n4                  1.0      0.6        1.00  1.00      0.00         inf   \n5                  1.0      0.6        1.00  1.00      0.00         inf   \n6                  1.0      0.6        1.00  1.00      0.00         inf   \n7                  0.6      0.6        0.75  1.25      0.12         1.6   \n8                  0.8      0.6        1.00  1.25      0.12         inf   \n9                  1.0      0.6        1.00  1.00      0.00         inf   \n10                 0.6      0.6        0.75  1.25      0.12         1.6   \n11                 0.8      0.6        1.00  1.25      0.12         inf   \n\n    antecedent_len  \n0                1  \n1                1  \n2                1  \n3                1  \n4                1  \n5                1  \n6                1  \n7                2  \n8                2  \n9                2  \n10               1  \n11               1  ",
      "text/html": "<div>\n<style scoped>\n    .dataframe tbody tr th:only-of-type {\n        vertical-align: middle;\n    }\n\n    .dataframe tbody tr th {\n        vertical-align: top;\n    }\n\n    .dataframe thead th {\n        text-align: right;\n    }\n</style>\n<table border=\"1\" class=\"dataframe\">\n  <thead>\n    <tr style=\"text-align: right;\">\n      <th></th>\n      <th>antecedents</th>\n      <th>consequents</th>\n      <th>antecedent support</th>\n      <th>consequent support</th>\n      <th>support</th>\n      <th>confidence</th>\n      <th>lift</th>\n      <th>leverage</th>\n      <th>conviction</th>\n      <th>antecedent_len</th>\n    </tr>\n  </thead>\n  <tbody>\n    <tr>\n      <td>0</td>\n      <td>(Kidney Beans)</td>\n      <td>(Eggs)</td>\n      <td>1.0</td>\n      <td>0.8</td>\n      <td>0.8</td>\n      <td>0.80</td>\n      <td>1.00</td>\n      <td>0.00</td>\n      <td>1.0</td>\n      <td>1</td>\n    </tr>\n    <tr>\n      <td>1</td>\n      <td>(Eggs)</td>\n      <td>(Kidney Beans)</td>\n      <td>0.8</td>\n      <td>1.0</td>\n      <td>0.8</td>\n      <td>1.00</td>\n      <td>1.00</td>\n      <td>0.00</td>\n      <td>inf</td>\n      <td>1</td>\n    </tr>\n    <tr>\n      <td>2</td>\n      <td>(Eggs)</td>\n      <td>(Onion)</td>\n      <td>0.8</td>\n      <td>0.6</td>\n      <td>0.6</td>\n      <td>0.75</td>\n      <td>1.25</td>\n      <td>0.12</td>\n      <td>1.6</td>\n      <td>1</td>\n    </tr>\n    <tr>\n      <td>3</td>\n      <td>(Onion)</td>\n      <td>(Eggs)</td>\n      <td>0.6</td>\n      <td>0.8</td>\n      <td>0.6</td>\n      <td>1.00</td>\n      <td>1.25</td>\n      <td>0.12</td>\n      <td>inf</td>\n      <td>1</td>\n    </tr>\n    <tr>\n      <td>4</td>\n      <td>(Milk)</td>\n      <td>(Kidney Beans)</td>\n      <td>0.6</td>\n      <td>1.0</td>\n      <td>0.6</td>\n      <td>1.00</td>\n      <td>1.00</td>\n      <td>0.00</td>\n      <td>inf</td>\n      <td>1</td>\n    </tr>\n    <tr>\n      <td>5</td>\n      <td>(Onion)</td>\n      <td>(Kidney Beans)</td>\n      <td>0.6</td>\n      <td>1.0</td>\n      <td>0.6</td>\n      <td>1.00</td>\n      <td>1.00</td>\n      <td>0.00</td>\n      <td>inf</td>\n      <td>1</td>\n    </tr>\n    <tr>\n      <td>6</td>\n      <td>(Yogurt)</td>\n      <td>(Kidney Beans)</td>\n      <td>0.6</td>\n      <td>1.0</td>\n      <td>0.6</td>\n      <td>1.00</td>\n      <td>1.00</td>\n      <td>0.00</td>\n      <td>inf</td>\n      <td>1</td>\n    </tr>\n    <tr>\n      <td>7</td>\n      <td>(Kidney Beans, Eggs)</td>\n      <td>(Onion)</td>\n      <td>0.8</td>\n      <td>0.6</td>\n      <td>0.6</td>\n      <td>0.75</td>\n      <td>1.25</td>\n      <td>0.12</td>\n      <td>1.6</td>\n      <td>2</td>\n    </tr>\n    <tr>\n      <td>8</td>\n      <td>(Kidney Beans, Onion)</td>\n      <td>(Eggs)</td>\n      <td>0.6</td>\n      <td>0.8</td>\n      <td>0.6</td>\n      <td>1.00</td>\n      <td>1.25</td>\n      <td>0.12</td>\n      <td>inf</td>\n      <td>2</td>\n    </tr>\n    <tr>\n      <td>9</td>\n      <td>(Eggs, Onion)</td>\n      <td>(Kidney Beans)</td>\n      <td>0.6</td>\n      <td>1.0</td>\n      <td>0.6</td>\n      <td>1.00</td>\n      <td>1.00</td>\n      <td>0.00</td>\n      <td>inf</td>\n      <td>2</td>\n    </tr>\n    <tr>\n      <td>10</td>\n      <td>(Eggs)</td>\n      <td>(Kidney Beans, Onion)</td>\n      <td>0.8</td>\n      <td>0.6</td>\n      <td>0.6</td>\n      <td>0.75</td>\n      <td>1.25</td>\n      <td>0.12</td>\n      <td>1.6</td>\n      <td>1</td>\n    </tr>\n    <tr>\n      <td>11</td>\n      <td>(Onion)</td>\n      <td>(Kidney Beans, Eggs)</td>\n      <td>0.6</td>\n      <td>0.8</td>\n      <td>0.6</td>\n      <td>1.00</td>\n      <td>1.25</td>\n      <td>0.12</td>\n      <td>inf</td>\n      <td>1</td>\n    </tr>\n  </tbody>\n</table>\n</div>"
     },
     "metadata": {},
     "execution_count": 23
    }
   ],
   "source": [
    "associationRulesSet[\"antecedent_len\"] = associationRulesSet[\"antecedents\"].apply(lambda x: len(x))\n",
    "associationRulesSet\n",
    "\n",
    ""
   ]
  },
  {
   "cell_type": "markdown",
   "metadata": {},
   "source": [
    "- if you just need the associaltion rule of some antecedents or consequents"
   ]
  },
  {
   "cell_type": "code",
   "execution_count": 26,
   "metadata": {},
   "outputs": [
    {
     "output_type": "execute_result",
     "data": {
      "text/plain": "            antecedents consequents  antecedent support  consequent support  \\\n7  (Kidney Beans, Eggs)     (Onion)                 0.8                 0.6   \n\n   support  confidence  lift  leverage  conviction  antecedent_len  \n7      0.6        0.75  1.25      0.12         1.6               2  ",
      "text/html": "<div>\n<style scoped>\n    .dataframe tbody tr th:only-of-type {\n        vertical-align: middle;\n    }\n\n    .dataframe tbody tr th {\n        vertical-align: top;\n    }\n\n    .dataframe thead th {\n        text-align: right;\n    }\n</style>\n<table border=\"1\" class=\"dataframe\">\n  <thead>\n    <tr style=\"text-align: right;\">\n      <th></th>\n      <th>antecedents</th>\n      <th>consequents</th>\n      <th>antecedent support</th>\n      <th>consequent support</th>\n      <th>support</th>\n      <th>confidence</th>\n      <th>lift</th>\n      <th>leverage</th>\n      <th>conviction</th>\n      <th>antecedent_len</th>\n    </tr>\n  </thead>\n  <tbody>\n    <tr>\n      <td>7</td>\n      <td>(Kidney Beans, Eggs)</td>\n      <td>(Onion)</td>\n      <td>0.8</td>\n      <td>0.6</td>\n      <td>0.6</td>\n      <td>0.75</td>\n      <td>1.25</td>\n      <td>0.12</td>\n      <td>1.6</td>\n      <td>2</td>\n    </tr>\n  </tbody>\n</table>\n</div>"
     },
     "metadata": {},
     "execution_count": 26
    }
   ],
   "source": [
    "associationRulesSet[associationRulesSet['antecedents'] == {'Eggs', 'Kidney Beans'}]\n",
    ""
   ]
  },
  {
   "cell_type": "code",
   "execution_count": 27,
   "metadata": {},
   "outputs": [
    {
     "output_type": "execute_result",
     "data": {
      "text/plain": "            antecedents consequents  antecedent support  consequent support  \\\n2                (Eggs)     (Onion)                 0.8                 0.6   \n7  (Kidney Beans, Eggs)     (Onion)                 0.8                 0.6   \n\n   support  confidence  lift  leverage  conviction  antecedent_len  \n2      0.6        0.75  1.25      0.12         1.6               1  \n7      0.6        0.75  1.25      0.12         1.6               2  ",
      "text/html": "<div>\n<style scoped>\n    .dataframe tbody tr th:only-of-type {\n        vertical-align: middle;\n    }\n\n    .dataframe tbody tr th {\n        vertical-align: top;\n    }\n\n    .dataframe thead th {\n        text-align: right;\n    }\n</style>\n<table border=\"1\" class=\"dataframe\">\n  <thead>\n    <tr style=\"text-align: right;\">\n      <th></th>\n      <th>antecedents</th>\n      <th>consequents</th>\n      <th>antecedent support</th>\n      <th>consequent support</th>\n      <th>support</th>\n      <th>confidence</th>\n      <th>lift</th>\n      <th>leverage</th>\n      <th>conviction</th>\n      <th>antecedent_len</th>\n    </tr>\n  </thead>\n  <tbody>\n    <tr>\n      <td>2</td>\n      <td>(Eggs)</td>\n      <td>(Onion)</td>\n      <td>0.8</td>\n      <td>0.6</td>\n      <td>0.6</td>\n      <td>0.75</td>\n      <td>1.25</td>\n      <td>0.12</td>\n      <td>1.6</td>\n      <td>1</td>\n    </tr>\n    <tr>\n      <td>7</td>\n      <td>(Kidney Beans, Eggs)</td>\n      <td>(Onion)</td>\n      <td>0.8</td>\n      <td>0.6</td>\n      <td>0.6</td>\n      <td>0.75</td>\n      <td>1.25</td>\n      <td>0.12</td>\n      <td>1.6</td>\n      <td>2</td>\n    </tr>\n  </tbody>\n</table>\n</div>"
     },
     "metadata": {},
     "execution_count": 27
    }
   ],
   "source": [
    "associationRulesSet[associationRulesSet['consequents'] == {'Onion'}]"
   ]
  },
  {
   "cell_type": "markdown",
   "metadata": {},
   "source": [
    "if you need to query something by rules just do it :\n",
    "\n",
    "- rules \n",
    "    - support >= 0.7\n",
    "    - confidence >= 0.9\n",
    "    - lenth of items as anticedents = 1"
   ]
  },
  {
   "cell_type": "code",
   "execution_count": 33,
   "metadata": {},
   "outputs": [
    {
     "output_type": "execute_result",
     "data": {
      "text/plain": "      antecedents     consequents  antecedent support  consequent support  \\\n0  (Kidney Beans)          (Eggs)                 1.0                 0.8   \n1          (Eggs)  (Kidney Beans)                 0.8                 1.0   \n\n   support  confidence  lift  leverage  conviction  antecedent_len  \n0      0.8         0.8   1.0       0.0         1.0               1  \n1      0.8         1.0   1.0       0.0         inf               1  ",
      "text/html": "<div>\n<style scoped>\n    .dataframe tbody tr th:only-of-type {\n        vertical-align: middle;\n    }\n\n    .dataframe tbody tr th {\n        vertical-align: top;\n    }\n\n    .dataframe thead th {\n        text-align: right;\n    }\n</style>\n<table border=\"1\" class=\"dataframe\">\n  <thead>\n    <tr style=\"text-align: right;\">\n      <th></th>\n      <th>antecedents</th>\n      <th>consequents</th>\n      <th>antecedent support</th>\n      <th>consequent support</th>\n      <th>support</th>\n      <th>confidence</th>\n      <th>lift</th>\n      <th>leverage</th>\n      <th>conviction</th>\n      <th>antecedent_len</th>\n    </tr>\n  </thead>\n  <tbody>\n    <tr>\n      <td>0</td>\n      <td>(Kidney Beans)</td>\n      <td>(Eggs)</td>\n      <td>1.0</td>\n      <td>0.8</td>\n      <td>0.8</td>\n      <td>0.8</td>\n      <td>1.0</td>\n      <td>0.0</td>\n      <td>1.0</td>\n      <td>1</td>\n    </tr>\n    <tr>\n      <td>1</td>\n      <td>(Eggs)</td>\n      <td>(Kidney Beans)</td>\n      <td>0.8</td>\n      <td>1.0</td>\n      <td>0.8</td>\n      <td>1.0</td>\n      <td>1.0</td>\n      <td>0.0</td>\n      <td>inf</td>\n      <td>1</td>\n    </tr>\n  </tbody>\n</table>\n</div>"
     },
     "metadata": {},
     "execution_count": 33
    }
   ],
   "source": [
    "associationRulesSet[(associationRulesSet['support'] >= 0.7) &\n",
    "                    (associationRulesSet['confidence'] >=0.8)&\n",
    "                    (associationRulesSet['antecedent_len'] ==1) ]"
   ]
  },
  {
   "cell_type": "markdown",
   "metadata": {},
   "source": [
    "## Let's Going to the Lecture Example\n",
    "\n"
   ]
  },
  {
   "cell_type": "code",
   "execution_count": 39,
   "metadata": {},
   "outputs": [],
   "source": [
    "Transactions=  [['l1', 'l2', 'l5'],\n",
    "                ['l2', 'l4'],\n",
    "                ['l2', 'l3'],\n",
    "                ['l1', 'l2', 'l4'],\n",
    "                ['l1', 'l3'],\n",
    "                ['l2', 'l3'],\n",
    "                ['l1', 'l3'],\n",
    "                ['l1', 'l2', 'l3', 'l5'],\n",
    "                ['l1', 'l2', 'l3'],\n",
    "                ['l1', 'l2']]"
   ]
  },
  {
   "cell_type": "code",
   "execution_count": 40,
   "metadata": {},
   "outputs": [
    {
     "output_type": "execute_result",
     "data": {
      "text/plain": "      l1     l2     l3     l4     l5\n0   True   True  False  False   True\n1  False   True  False   True  False\n2  False   True   True  False  False\n3   True   True  False   True  False\n4   True  False   True  False  False\n5  False   True   True  False  False\n6   True  False   True  False  False\n7   True   True   True  False   True\n8   True   True   True  False  False\n9   True   True  False  False  False",
      "text/html": "<div>\n<style scoped>\n    .dataframe tbody tr th:only-of-type {\n        vertical-align: middle;\n    }\n\n    .dataframe tbody tr th {\n        vertical-align: top;\n    }\n\n    .dataframe thead th {\n        text-align: right;\n    }\n</style>\n<table border=\"1\" class=\"dataframe\">\n  <thead>\n    <tr style=\"text-align: right;\">\n      <th></th>\n      <th>l1</th>\n      <th>l2</th>\n      <th>l3</th>\n      <th>l4</th>\n      <th>l5</th>\n    </tr>\n  </thead>\n  <tbody>\n    <tr>\n      <td>0</td>\n      <td>True</td>\n      <td>True</td>\n      <td>False</td>\n      <td>False</td>\n      <td>True</td>\n    </tr>\n    <tr>\n      <td>1</td>\n      <td>False</td>\n      <td>True</td>\n      <td>False</td>\n      <td>True</td>\n      <td>False</td>\n    </tr>\n    <tr>\n      <td>2</td>\n      <td>False</td>\n      <td>True</td>\n      <td>True</td>\n      <td>False</td>\n      <td>False</td>\n    </tr>\n    <tr>\n      <td>3</td>\n      <td>True</td>\n      <td>True</td>\n      <td>False</td>\n      <td>True</td>\n      <td>False</td>\n    </tr>\n    <tr>\n      <td>4</td>\n      <td>True</td>\n      <td>False</td>\n      <td>True</td>\n      <td>False</td>\n      <td>False</td>\n    </tr>\n    <tr>\n      <td>5</td>\n      <td>False</td>\n      <td>True</td>\n      <td>True</td>\n      <td>False</td>\n      <td>False</td>\n    </tr>\n    <tr>\n      <td>6</td>\n      <td>True</td>\n      <td>False</td>\n      <td>True</td>\n      <td>False</td>\n      <td>False</td>\n    </tr>\n    <tr>\n      <td>7</td>\n      <td>True</td>\n      <td>True</td>\n      <td>True</td>\n      <td>False</td>\n      <td>True</td>\n    </tr>\n    <tr>\n      <td>8</td>\n      <td>True</td>\n      <td>True</td>\n      <td>True</td>\n      <td>False</td>\n      <td>False</td>\n    </tr>\n    <tr>\n      <td>9</td>\n      <td>True</td>\n      <td>True</td>\n      <td>False</td>\n      <td>False</td>\n      <td>False</td>\n    </tr>\n  </tbody>\n</table>\n</div>"
     },
     "metadata": {},
     "execution_count": 40
    }
   ],
   "source": [
    "te = TransactionEncoder()\n",
    "transactions_ar = te.fit(Transactions).transform(Transactions)\n",
    "TrDataframe = pd.DataFrame(transactions_ar ,  columns= te.columns_)\n",
    "TrDataframe"
   ]
  },
  {
   "cell_type": "markdown",
   "metadata": {},
   "source": [
    "- now we are using apriori with minimum support in our example is about 2 of 10 transaction so the min_support = 0.2"
   ]
  },
  {
   "cell_type": "code",
   "execution_count": 42,
   "metadata": {},
   "outputs": [
    {
     "output_type": "execute_result",
     "data": {
      "text/plain": "    support      itemsets\n0       0.7          (l1)\n1       0.8          (l2)\n2       0.6          (l3)\n3       0.2          (l4)\n4       0.2          (l5)\n5       0.5      (l1, l2)\n6       0.4      (l1, l3)\n7       0.2      (l5, l1)\n8       0.4      (l2, l3)\n9       0.2      (l2, l4)\n10      0.2      (l5, l2)\n11      0.2  (l1, l2, l3)\n12      0.2  (l5, l1, l2)",
      "text/html": "<div>\n<style scoped>\n    .dataframe tbody tr th:only-of-type {\n        vertical-align: middle;\n    }\n\n    .dataframe tbody tr th {\n        vertical-align: top;\n    }\n\n    .dataframe thead th {\n        text-align: right;\n    }\n</style>\n<table border=\"1\" class=\"dataframe\">\n  <thead>\n    <tr style=\"text-align: right;\">\n      <th></th>\n      <th>support</th>\n      <th>itemsets</th>\n    </tr>\n  </thead>\n  <tbody>\n    <tr>\n      <td>0</td>\n      <td>0.7</td>\n      <td>(l1)</td>\n    </tr>\n    <tr>\n      <td>1</td>\n      <td>0.8</td>\n      <td>(l2)</td>\n    </tr>\n    <tr>\n      <td>2</td>\n      <td>0.6</td>\n      <td>(l3)</td>\n    </tr>\n    <tr>\n      <td>3</td>\n      <td>0.2</td>\n      <td>(l4)</td>\n    </tr>\n    <tr>\n      <td>4</td>\n      <td>0.2</td>\n      <td>(l5)</td>\n    </tr>\n    <tr>\n      <td>5</td>\n      <td>0.5</td>\n      <td>(l1, l2)</td>\n    </tr>\n    <tr>\n      <td>6</td>\n      <td>0.4</td>\n      <td>(l1, l3)</td>\n    </tr>\n    <tr>\n      <td>7</td>\n      <td>0.2</td>\n      <td>(l5, l1)</td>\n    </tr>\n    <tr>\n      <td>8</td>\n      <td>0.4</td>\n      <td>(l2, l3)</td>\n    </tr>\n    <tr>\n      <td>9</td>\n      <td>0.2</td>\n      <td>(l2, l4)</td>\n    </tr>\n    <tr>\n      <td>10</td>\n      <td>0.2</td>\n      <td>(l5, l2)</td>\n    </tr>\n    <tr>\n      <td>11</td>\n      <td>0.2</td>\n      <td>(l1, l2, l3)</td>\n    </tr>\n    <tr>\n      <td>12</td>\n      <td>0.2</td>\n      <td>(l5, l1, l2)</td>\n    </tr>\n  </tbody>\n</table>\n</div>"
     },
     "metadata": {},
     "execution_count": 42
    }
   ],
   "source": [
    "frequentSet =apriori(TrDataframe, min_support= 0.2 , use_colnames=True)\n",
    "frequentSet"
   ]
  },
  {
   "cell_type": "markdown",
   "metadata": {},
   "source": [
    "-دلوقتى الحمد لله جبنا نتايج الشغل صحيح مقارنة بالمحاضرة \n",
    "- \n",
    "![](min_confSlide.PNG)"
   ]
  },
  {
   "cell_type": "code",
   "execution_count": 44,
   "metadata": {},
   "outputs": [
    {
     "output_type": "execute_result",
     "data": {
      "text/plain": "  antecedents consequents  antecedent support  consequent support  support  \\\n0        (l1)        (l2)                 0.7                 0.8      0.5   \n1        (l5)        (l1)                 0.2                 0.7      0.2   \n2        (l4)        (l2)                 0.2                 0.8      0.2   \n3        (l5)        (l2)                 0.2                 0.8      0.2   \n4    (l5, l1)        (l2)                 0.2                 0.8      0.2   \n5    (l5, l2)        (l1)                 0.2                 0.7      0.2   \n6        (l5)    (l1, l2)                 0.2                 0.5      0.2   \n\n   confidence      lift  leverage  conviction  \n0    0.714286  0.892857     -0.06         0.7  \n1    1.000000  1.428571      0.06         inf  \n2    1.000000  1.250000      0.04         inf  \n3    1.000000  1.250000      0.04         inf  \n4    1.000000  1.250000      0.04         inf  \n5    1.000000  1.428571      0.06         inf  \n6    1.000000  2.000000      0.10         inf  ",
      "text/html": "<div>\n<style scoped>\n    .dataframe tbody tr th:only-of-type {\n        vertical-align: middle;\n    }\n\n    .dataframe tbody tr th {\n        vertical-align: top;\n    }\n\n    .dataframe thead th {\n        text-align: right;\n    }\n</style>\n<table border=\"1\" class=\"dataframe\">\n  <thead>\n    <tr style=\"text-align: right;\">\n      <th></th>\n      <th>antecedents</th>\n      <th>consequents</th>\n      <th>antecedent support</th>\n      <th>consequent support</th>\n      <th>support</th>\n      <th>confidence</th>\n      <th>lift</th>\n      <th>leverage</th>\n      <th>conviction</th>\n    </tr>\n  </thead>\n  <tbody>\n    <tr>\n      <td>0</td>\n      <td>(l1)</td>\n      <td>(l2)</td>\n      <td>0.7</td>\n      <td>0.8</td>\n      <td>0.5</td>\n      <td>0.714286</td>\n      <td>0.892857</td>\n      <td>-0.06</td>\n      <td>0.7</td>\n    </tr>\n    <tr>\n      <td>1</td>\n      <td>(l5)</td>\n      <td>(l1)</td>\n      <td>0.2</td>\n      <td>0.7</td>\n      <td>0.2</td>\n      <td>1.000000</td>\n      <td>1.428571</td>\n      <td>0.06</td>\n      <td>inf</td>\n    </tr>\n    <tr>\n      <td>2</td>\n      <td>(l4)</td>\n      <td>(l2)</td>\n      <td>0.2</td>\n      <td>0.8</td>\n      <td>0.2</td>\n      <td>1.000000</td>\n      <td>1.250000</td>\n      <td>0.04</td>\n      <td>inf</td>\n    </tr>\n    <tr>\n      <td>3</td>\n      <td>(l5)</td>\n      <td>(l2)</td>\n      <td>0.2</td>\n      <td>0.8</td>\n      <td>0.2</td>\n      <td>1.000000</td>\n      <td>1.250000</td>\n      <td>0.04</td>\n      <td>inf</td>\n    </tr>\n    <tr>\n      <td>4</td>\n      <td>(l5, l1)</td>\n      <td>(l2)</td>\n      <td>0.2</td>\n      <td>0.8</td>\n      <td>0.2</td>\n      <td>1.000000</td>\n      <td>1.250000</td>\n      <td>0.04</td>\n      <td>inf</td>\n    </tr>\n    <tr>\n      <td>5</td>\n      <td>(l5, l2)</td>\n      <td>(l1)</td>\n      <td>0.2</td>\n      <td>0.7</td>\n      <td>0.2</td>\n      <td>1.000000</td>\n      <td>1.428571</td>\n      <td>0.06</td>\n      <td>inf</td>\n    </tr>\n    <tr>\n      <td>6</td>\n      <td>(l5)</td>\n      <td>(l1, l2)</td>\n      <td>0.2</td>\n      <td>0.5</td>\n      <td>0.2</td>\n      <td>1.000000</td>\n      <td>2.000000</td>\n      <td>0.10</td>\n      <td>inf</td>\n    </tr>\n  </tbody>\n</table>\n</div>"
     },
     "metadata": {},
     "execution_count": 44
    }
   ],
   "source": [
    "rules =association_rules(frequentSet, metric=\"confidence\", min_threshold=0.7)\n",
    "rules"
   ]
  },
  {
   "cell_type": "markdown",
   "metadata": {},
   "source": [
    "# Frequent Itemsets via the FP-Growth Algorithm"
   ]
  },
  {
   "cell_type": "markdown",
   "metadata": {},
   "source": []
  },
  {
   "cell_type": "code",
   "execution_count": 6,
   "metadata": {},
   "outputs": [
    {
     "output_type": "execute_result",
     "data": {
      "text/plain": "    support                     itemsets\n0       1.0               (Kidney Beans)\n1       0.8                       (Eggs)\n2       0.6                     (Yogurt)\n3       0.6                      (Onion)\n4       0.6                       (Milk)\n5       0.8         (Kidney Beans, Eggs)\n6       0.6       (Yogurt, Kidney Beans)\n7       0.6                (Eggs, Onion)\n8       0.6        (Kidney Beans, Onion)\n9       0.6  (Kidney Beans, Eggs, Onion)\n10      0.6         (Milk, Kidney Beans)",
      "text/html": "<div>\n<style scoped>\n    .dataframe tbody tr th:only-of-type {\n        vertical-align: middle;\n    }\n\n    .dataframe tbody tr th {\n        vertical-align: top;\n    }\n\n    .dataframe thead th {\n        text-align: right;\n    }\n</style>\n<table border=\"1\" class=\"dataframe\">\n  <thead>\n    <tr style=\"text-align: right;\">\n      <th></th>\n      <th>support</th>\n      <th>itemsets</th>\n    </tr>\n  </thead>\n  <tbody>\n    <tr>\n      <td>0</td>\n      <td>1.0</td>\n      <td>(Kidney Beans)</td>\n    </tr>\n    <tr>\n      <td>1</td>\n      <td>0.8</td>\n      <td>(Eggs)</td>\n    </tr>\n    <tr>\n      <td>2</td>\n      <td>0.6</td>\n      <td>(Yogurt)</td>\n    </tr>\n    <tr>\n      <td>3</td>\n      <td>0.6</td>\n      <td>(Onion)</td>\n    </tr>\n    <tr>\n      <td>4</td>\n      <td>0.6</td>\n      <td>(Milk)</td>\n    </tr>\n    <tr>\n      <td>5</td>\n      <td>0.8</td>\n      <td>(Kidney Beans, Eggs)</td>\n    </tr>\n    <tr>\n      <td>6</td>\n      <td>0.6</td>\n      <td>(Yogurt, Kidney Beans)</td>\n    </tr>\n    <tr>\n      <td>7</td>\n      <td>0.6</td>\n      <td>(Eggs, Onion)</td>\n    </tr>\n    <tr>\n      <td>8</td>\n      <td>0.6</td>\n      <td>(Kidney Beans, Onion)</td>\n    </tr>\n    <tr>\n      <td>9</td>\n      <td>0.6</td>\n      <td>(Kidney Beans, Eggs, Onion)</td>\n    </tr>\n    <tr>\n      <td>10</td>\n      <td>0.6</td>\n      <td>(Milk, Kidney Beans)</td>\n    </tr>\n  </tbody>\n</table>\n</div>"
     },
     "metadata": {},
     "execution_count": 6
    }
   ],
   "source": [
    "from mlxtend.frequent_patterns import fpgrowth\n",
    "\n",
    "fpgrowth(df, min_support=0.6, use_colnames=True)"
   ]
  },
  {
   "cell_type": "code",
   "execution_count": 7,
   "metadata": {},
   "outputs": [
    {
     "output_type": "stream",
     "name": "stdout",
     "text": "7.55 ms ± 1.31 ms per loop (mean ± std. dev. of 10 runs, 100 loops each)\n"
    }
   ],
   "source": [
    "%timeit -n 100 -r 10 apriori(df, min_support=0.6)"
   ]
  },
  {
   "cell_type": "code",
   "execution_count": 8,
   "metadata": {},
   "outputs": [
    {
     "output_type": "stream",
     "name": "stdout",
     "text": "3.36 ms ± 681 µs per loop (mean ± std. dev. of 10 runs, 100 loops each)\n"
    }
   ],
   "source": [
    "%timeit -n 100 -r 10 fpgrowth(df, min_support=0.6)"
   ]
  },
  {
   "cell_type": "code",
   "execution_count": null,
   "metadata": {},
   "outputs": [],
   "source": []
  }
 ]
}