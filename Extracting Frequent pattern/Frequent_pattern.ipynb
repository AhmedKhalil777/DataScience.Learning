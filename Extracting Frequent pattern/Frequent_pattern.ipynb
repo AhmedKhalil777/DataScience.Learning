{
 "nbformat": 4,
 "nbformat_minor": 2,
 "metadata": {
  "language_info": {
   "name": "python",
   "codemirror_mode": {
    "name": "ipython",
    "version": 3
   }
  },
  "orig_nbformat": 2,
  "file_extension": ".py",
  "mimetype": "text/x-python",
  "name": "python",
  "npconvert_exporter": "python",
  "pygments_lexer": "ipython3",
  "version": 3
 },
 "cells": [
  {
   "cell_type": "markdown",
   "metadata": {},
   "source": [
    "# Frequent Pattern Study\n",
    "## Litratures \n",
    "\n",
    "|Name|Source|\n",
    "|:-|:-|\n",
    "|Frequent Pattern Mining Charu C. Aggarwal, Jiawei Han | [![](../Litrature_Reviews/freq.PNG)]() |\n",
    "|Frequent Itemsets via Apriori Algorithm|[Github User Guide for mlxtend](http://rasbt.github.io/mlxtend/user_guide/frequent_patterns/apriori/)|\n",
    "\n",
    "## Frequent Pattern using Apriori Algorithm\n",
    "\n",
    "### Apriori function : \n",
    "- is an algorithm for frequent item set mining and association rule learning over relational databases.\n",
    "- It proceeds by identifying the frequent individual items in the database and extending them to larger and larger item sets as long as those item sets appear sufficiently often in the database.\n",
    "\n",
    "\n"
   ]
  },
  {
   "cell_type": "code",
   "execution_count": null,
   "metadata": {},
   "outputs": [],
   "source": [
    "dataset = [['Milk', 'Onion', 'Nutmeg', 'Kidney Beans', 'Eggs', 'Yogurt'],\n",
    "           ['Dill', 'Onion', 'Nutmeg', 'Kidney Beans', 'Eggs', 'Yogurt'],\n",
    "           ['Milk', 'Apple', 'Kidney Beans', 'Eggs'],\n",
    "           ['Milk', 'Unicorn', 'Corn', 'Kidney Beans', 'Yogurt'],\n",
    "           ['Corn', 'Onion', 'Onion', 'Kidney Beans', 'Ice cream', 'Eggs']]"
   ]
  }
 ]
}