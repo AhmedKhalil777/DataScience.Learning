{
 "nbformat": 4,
 "nbformat_minor": 2,
 "metadata": {
  "language_info": {
   "name": "python",
   "codemirror_mode": {
    "name": "ipython",
    "version": 3
   },
   "version": "3.7.4-final"
  },
  "orig_nbformat": 2,
  "file_extension": ".py",
  "mimetype": "text/x-python",
  "name": "python",
  "npconvert_exporter": "python",
  "pygments_lexer": "ipython3",
  "version": 3,
  "kernelspec": {
   "name": "python3",
   "display_name": "Python 3"
  }
 },
 "cells": [
  {
   "cell_type": "markdown",
   "metadata": {},
   "source": [
    "# In The Name Of ALLAH \n",
    "- Scrapping The Datatable of https://www.worldometers.info/coronavirus/\n"
   ]
  },
  {
   "cell_type": "markdown",
   "metadata": {},
   "source": [
    "## Imports \n",
    "- Selenium to get the website content by web driver\n",
    "- BeutifulSoup to scrap the data from the Html content\n",
    "- time to simulate in specific time {Showing Us before its implement}\n",
    "- Pandas to save the data scrapped as a CSV"
   ]
  },
  {
   "cell_type": "code",
   "execution_count": 2,
   "metadata": {},
   "outputs": [],
   "source": [
    "# selenium\n",
    "from selenium import webdriver\n",
    "from selenium.webdriver.common.keys import Keys\n",
    "from selenium.webdriver.chrome.options import Options\n",
    "#bs\n",
    "from bs4 import BeautifulSoup\n",
    "from bs4 import element\n",
    "# time\n",
    "import time\n",
    "# Pandas\n",
    "import pandas as pd\n"
   ]
  },
  {
   "cell_type": "markdown",
   "metadata": {},
   "source": [
    "## Creating The Driver and adding the Browser driver options"
   ]
  },
  {
   "cell_type": "code",
   "execution_count": 3,
   "metadata": {},
   "outputs": [],
   "source": [
    "# Options \n",
    "#Options = webdriver.ChromeOptions()\n",
    "#Options.add_argument('--ignore-certificate-error')\n",
    "#Options.add_argument('--incognitio')\n",
    "#Options.add_argument('--headless')\n",
    "#driver = webdriver.Chrome(options= Options)\n",
    "chromeOption = Options()\n",
    "#chromeOption.add_argument('--kiosk')\n",
    "driver = webdriver.Chrome(options= chromeOption)\n",
    ""
   ]
  },
  {
   "cell_type": "markdown",
   "metadata": {},
   "source": [
    "# Open the Site to Scrap it"
   ]
  },
  {
   "cell_type": "code",
   "execution_count": 6,
   "metadata": {},
   "outputs": [],
   "source": [
    "\n",
    "driver.get('https://www.worldometers.info/coronavirus/')\n",
    ""
   ]
  },
  {
   "cell_type": "markdown",
   "metadata": {},
   "source": [
    "## Getting the Table Content"
   ]
  },
  {
   "cell_type": "code",
   "execution_count": 8,
   "metadata": {},
   "outputs": [],
   "source": [
    "PGsrc = driver.page_source\n",
    "PageSrc = BeautifulSoup( PGsrc , \"lxml\")\n",
    "HtmlTable =PageSrc.find(id ='main_table_countries_today')\n",
    ""
   ]
  },
  {
   "cell_type": "code",
   "execution_count": 10,
   "metadata": {},
   "outputs": [],
   "source": [
    "# HtmlTable.prettify() show the content of TableHtml\n"
   ]
  },
  {
   "cell_type": "markdown",
   "metadata": {},
   "source": [
    "## Scrapping The Thead to get the attributes names\n",
    "- Getting table headers as list\n",
    "- trying to extract the strings from them\n"
   ]
  },
  {
   "cell_type": "code",
   "execution_count": 15,
   "metadata": {},
   "outputs": [
    {
     "output_type": "execute_result",
     "data": {
      "text/plain": "[<th aria-controls=\"main_table_countries_today\" aria-label=\"Country,Other: activate to sort column ascending\" class=\"sorting\" colspan=\"1\" rowspan=\"1\" style=\"width: 101px;\" tabindex=\"0\" width=\"100\">Country,<br/>Other</th>,\n <th aria-controls=\"main_table_countries_today\" aria-label=\"TotalCases: activate to sort column ascending\" aria-sort=\"descending\" class=\"sorting_desc\" colspan=\"1\" rowspan=\"1\" style=\"width: 48px;\" tabindex=\"0\" width=\"20\">Total<br/>Cases</th>,\n <th aria-controls=\"main_table_countries_today\" aria-label=\"NewCases: activate to sort column ascending\" class=\"sorting\" colspan=\"1\" rowspan=\"1\" style=\"width: 42px;\" tabindex=\"0\" width=\"30\">New<br/>Cases</th>,\n <th aria-controls=\"main_table_countries_today\" aria-label=\"TotalDeaths: activate to sort column ascending\" class=\"sorting\" colspan=\"1\" rowspan=\"1\" style=\"width: 48px;\" tabindex=\"0\" width=\"30\">Total<br/>Deaths</th>,\n <th aria-controls=\"main_table_countries_today\" aria-label=\"NewDeaths: activate to sort column ascending\" class=\"sorting\" colspan=\"1\" rowspan=\"1\" style=\"width: 48px;\" tabindex=\"0\" width=\"30\">New<br/>Deaths</th>,\n <th aria-controls=\"main_table_countries_today\" aria-label=\"TotalRecovered: activate to sort column ascending\" class=\"sorting\" colspan=\"1\" rowspan=\"1\" style=\"width: 73px;\" tabindex=\"0\" width=\"30\">Total<br/>Recovered</th>,\n <th aria-controls=\"main_table_countries_today\" aria-label=\"ActiveCases: activate to sort column ascending\" class=\"sorting\" colspan=\"1\" rowspan=\"1\" style=\"width: 48px;\" tabindex=\"0\" width=\"30\">Active<br/>Cases</th>,\n <th aria-controls=\"main_table_countries_today\" aria-label=\"Serious,Critical: activate to sort column ascending\" class=\"sorting\" colspan=\"1\" rowspan=\"1\" style=\"width: 56px;\" tabindex=\"0\" width=\"30\">Serious,<br/>Critical</th>,\n <th aria-controls=\"main_table_countries_today\" aria-label=\"Tot&amp;nbsp;Cases/1M pop: activate to sort column ascending\" class=\"sorting\" colspan=\"1\" rowspan=\"1\" style=\"width: 70px;\" tabindex=\"0\" width=\"30\">Tot Cases/<br/>1M pop</th>,\n <th aria-controls=\"main_table_countries_today\" aria-label=\"Deaths/1M pop: activate to sort column ascending\" class=\"sorting\" colspan=\"1\" rowspan=\"1\" style=\"width: 51px;\" tabindex=\"0\" width=\"30\">Deaths/<br/>1M pop</th>,\n <th aria-controls=\"main_table_countries_today\" aria-label=\"TotalTests: activate to sort column ascending\" class=\"sorting\" colspan=\"1\" rowspan=\"1\" style=\"width: 48px;\" tabindex=\"0\" width=\"30\">Total<br/>Tests</th>,\n <th aria-controls=\"main_table_countries_today\" aria-label=\"Tests/\n 1M pop\n : activate to sort column ascending\" class=\"sorting\" colspan=\"1\" rowspan=\"1\" style=\"width: 50px;\" tabindex=\"0\" width=\"30\">Tests/<br/>\n <nobr>1M pop</nobr>\n </th>]"
     },
     "metadata": {},
     "execution_count": 15
    }
   ],
   "source": [
    "\n",
    "Covid_headers = HtmlTable.thead.find_all('th')\n",
    "Covid_headers\n"
   ]
  },
  {
   "cell_type": "markdown",
   "metadata": {},
   "source": [
    "> Observing a `br` element in the middile of each header"
   ]
  },
  {
   "cell_type": "code",
   "execution_count": 16,
   "metadata": {},
   "outputs": [
    {
     "output_type": "stream",
     "name": "stdout",
     "text": "<th aria-controls=\"main_table_countries_today\" aria-label=\"Country,Other: activate to sort column ascending\" class=\"sorting\" colspan=\"1\" rowspan=\"1\" style=\"width: 101px;\" tabindex=\"0\" width=\"100\">Country,Other</th>\n<th aria-controls=\"main_table_countries_today\" aria-label=\"TotalCases: activate to sort column ascending\" aria-sort=\"descending\" class=\"sorting_desc\" colspan=\"1\" rowspan=\"1\" style=\"width: 48px;\" tabindex=\"0\" width=\"20\">TotalCases</th>\n<th aria-controls=\"main_table_countries_today\" aria-label=\"NewCases: activate to sort column ascending\" class=\"sorting\" colspan=\"1\" rowspan=\"1\" style=\"width: 42px;\" tabindex=\"0\" width=\"30\">NewCases</th>\n<th aria-controls=\"main_table_countries_today\" aria-label=\"TotalDeaths: activate to sort column ascending\" class=\"sorting\" colspan=\"1\" rowspan=\"1\" style=\"width: 48px;\" tabindex=\"0\" width=\"30\">TotalDeaths</th>\n<th aria-controls=\"main_table_countries_today\" aria-label=\"NewDeaths: activate to sort column ascending\" class=\"sorting\" colspan=\"1\" rowspan=\"1\" style=\"width: 48px;\" tabindex=\"0\" width=\"30\">NewDeaths</th>\n<th aria-controls=\"main_table_countries_today\" aria-label=\"TotalRecovered: activate to sort column ascending\" class=\"sorting\" colspan=\"1\" rowspan=\"1\" style=\"width: 73px;\" tabindex=\"0\" width=\"30\">TotalRecovered</th>\n<th aria-controls=\"main_table_countries_today\" aria-label=\"ActiveCases: activate to sort column ascending\" class=\"sorting\" colspan=\"1\" rowspan=\"1\" style=\"width: 48px;\" tabindex=\"0\" width=\"30\">ActiveCases</th>\n<th aria-controls=\"main_table_countries_today\" aria-label=\"Serious,Critical: activate to sort column ascending\" class=\"sorting\" colspan=\"1\" rowspan=\"1\" style=\"width: 56px;\" tabindex=\"0\" width=\"30\">Serious,Critical</th>\n<th aria-controls=\"main_table_countries_today\" aria-label=\"Tot&amp;nbsp;Cases/1M pop: activate to sort column ascending\" class=\"sorting\" colspan=\"1\" rowspan=\"1\" style=\"width: 70px;\" tabindex=\"0\" width=\"30\">Tot Cases/1M pop</th>\n<th aria-controls=\"main_table_countries_today\" aria-label=\"Deaths/1M pop: activate to sort column ascending\" class=\"sorting\" colspan=\"1\" rowspan=\"1\" style=\"width: 51px;\" tabindex=\"0\" width=\"30\">Deaths/1M pop</th>\n<th aria-controls=\"main_table_countries_today\" aria-label=\"TotalTests: activate to sort column ascending\" class=\"sorting\" colspan=\"1\" rowspan=\"1\" style=\"width: 48px;\" tabindex=\"0\" width=\"30\">TotalTests</th>\n<th aria-controls=\"main_table_countries_today\" aria-label=\"Tests/\n1M pop\n: activate to sort column ascending\" class=\"sorting\" colspan=\"1\" rowspan=\"1\" style=\"width: 50px;\" tabindex=\"0\" width=\"30\">Tests/\n<nobr>1M pop</nobr>\n</th>\n"
    }
   ],
   "source": [
    "for header in Covid_headers:\n",
    "    header.br.decompose()\n",
    "    print(header)"
   ]
  },
  {
   "cell_type": "code",
   "execution_count": 29,
   "metadata": {},
   "outputs": [
    {
     "output_type": "execute_result",
     "data": {
      "text/plain": "['Country,Other',\n 'TotalCases',\n 'NewCases',\n 'TotalDeaths',\n 'NewDeaths',\n 'TotalRecovered',\n 'ActiveCases',\n 'Serious,Critical',\n 'Tot\\xa0Cases/1M pop',\n 'Deaths/1M pop',\n 'TotalTests',\n 'Tests/\\n1M pop\\n']"
     },
     "metadata": {},
     "execution_count": 29
    }
   ],
   "source": [
    "HL =[]\n",
    "for header in Covid_headers:\n",
    "    HL.append(header.text)\n",
    "HL\n",
    "\n",
    "\n",
    "    "
   ]
  },
  {
   "cell_type": "markdown",
   "metadata": {},
   "source": [
    "> Good we made it, But the names must be so clear enouph, removing the mistakes"
   ]
  },
  {
   "cell_type": "code",
   "execution_count": 38,
   "metadata": {},
   "outputs": [
    {
     "output_type": "execute_result",
     "data": {
      "text/plain": "['Country',\n 'TotalCases',\n 'NewCases',\n 'TotalDeaths',\n 'NewDeaths',\n 'TotalRecovered',\n 'ActiveCases',\n 'SeriousCritical',\n 'TotCases_1M pop',\n 'Deaths_1M pop',\n 'TotalTests',\n 'Tests_1M pop']"
     },
     "metadata": {},
     "execution_count": 38
    }
   ],
   "source": [
    "def remove_mis(word):\n",
    "    return str(word).replace(',','').replace('Other','').replace('\\xa0','').replace('/','_').replace('\\n','')\n",
    "HL = list(map(remove_mis, HL))\n",
    "HL"
   ]
  },
  {
   "cell_type": "markdown",
   "metadata": {},
   "source": [
    "## Scrap the Body of the table"
   ]
  },
  {
   "cell_type": "code",
   "execution_count": 42,
   "metadata": {},
   "outputs": [
    {
     "output_type": "execute_result",
     "data": {
      "text/plain": "<tr class=\"even\" role=\"row\" style=\"\">\n<td style=\"font-weight: bold; font-size:15px; text-align:left;\"><a class=\"mt_a\" href=\"country/us/\">USA</a></td>\n<td class=\"sorting_1\" style=\"font-weight: bold; text-align:right\">394,587</td>\n<td style=\"font-weight: bold; text-align:right;background-color:#FFEEAA;\">+27,583</td>\n<td style=\"font-weight: bold; text-align:right;\">12,748 </td>\n<td style=\"font-weight: bold; \n                                    text-align:right;background-color:red; color:white\">+1,877</td>\n<td style=\"font-weight: bold; text-align:right\">21,674</td>\n<td style=\"text-align:right;font-weight:bold;\">360,165</td>\n<td style=\"font-weight: bold; text-align:right\">9,169</td>\n<td style=\"font-weight: bold; text-align:right\">1,192</td>\n<td style=\"font-weight: bold; text-align:right\">39</td>\n<td style=\"font-weight: bold; text-align:right\">2,062,831</td>\n<td style=\"font-weight: bold; text-align:right\">6,232</td>\n</tr>"
     },
     "metadata": {},
     "execution_count": 42
    }
   ],
   "source": [
    "Covid_body = HtmlTable.tbody.find_all('tr')\n",
    "Covid_body[1]"
   ]
  },
  {
   "cell_type": "markdown",
   "metadata": {},
   "source": [
    "> We need a List of Lists to apply all the body\n"
   ]
  },
  {
   "cell_type": "code",
   "execution_count": 68,
   "metadata": {},
   "outputs": [],
   "source": [
    "BL =[[]]\n",
    "i=0\n",
    "for trow in Covid_body:\n",
    "    x = []\n",
    "    for tdata in trow.find_all('td'):\n",
    "        x.append(tdata.text)\n",
    "    i = i+1\n",
    "    BL.append(x)\n",
    "    "
   ]
  },
  {
   "cell_type": "code",
   "execution_count": 73,
   "metadata": {},
   "outputs": [
    {
     "output_type": "execute_result",
     "data": {
      "text/plain": "['USA',\n '394,587',\n '+27,583',\n '12,748 ',\n '+1,877',\n '21,674',\n '360,165',\n '9,169',\n '1,192',\n '39',\n '2,062,831',\n '6,232']"
     },
     "metadata": {},
     "execution_count": 73
    }
   ],
   "source": [
    "BL[2]"
   ]
  },
  {
   "cell_type": "code",
   "execution_count": 75,
   "metadata": {},
   "outputs": [
    {
     "output_type": "execute_result",
     "data": {
      "text/plain": "[]"
     },
     "metadata": {},
     "execution_count": 75
    }
   ],
   "source": [
    "BL[0]"
   ]
  },
  {
   "cell_type": "code",
   "execution_count": 79,
   "metadata": {},
   "outputs": [
    {
     "output_type": "execute_result",
     "data": {
      "text/plain": "['World',\n '1,424,124',\n '+78,088',\n '81,889',\n '+7,235',\n '301,731',\n '1,040,504',\n '47,912',\n '183',\n '10.5',\n '',\n '']"
     },
     "metadata": {},
     "execution_count": 79
    }
   ],
   "source": [
    "#BL.remove([]) \n",
    "BL[0]\n"
   ]
  },
  {
   "cell_type": "markdown",
   "metadata": {},
   "source": [
    "> Good Let's save it as CSV file\n",
    "- But first we need columns to save not rows\n"
   ]
  },
  {
   "cell_type": "code",
   "execution_count": 81,
   "metadata": {},
   "outputs": [
    {
     "output_type": "execute_result",
     "data": {
      "text/plain": "212"
     },
     "metadata": {},
     "execution_count": 81
    }
   ],
   "source": [
    "table = {}\n",
    "BC =[[]]\n",
    "for col in range(len(HL)):\n",
    "    BC.append([])\n",
    "    for row in BL:\n",
    "        BC[col].append(row[col])\n",
    "\n",
    "\n"
   ]
  },
  {
   "cell_type": "markdown",
   "metadata": {},
   "source": [
    "## We just need some of prints"
   ]
  },
  {
   "cell_type": "code",
   "execution_count": 83,
   "metadata": {},
   "outputs": [
    {
     "output_type": "stream",
     "name": "stdout",
     "text": "['World', 'USA', 'Spain', 'Italy', 'France', 'Germany', 'China', 'Iran', 'UK', 'Turkey', 'Switzerland', 'Belgium', 'Netherlands', 'Canada', 'Brazil', 'Austria', 'Portugal', 'S. Korea', 'Israel', 'Sweden', 'Russia', 'Norway', 'Australia', 'Ireland', 'India', 'Chile', 'Denmark', 'Czechia', 'Poland', 'Romania', 'Pakistan', 'Malaysia', 'Japan', 'Philippines', 'Ecuador', 'Luxembourg', 'Peru', 'Saudi Arabia', 'Indonesia', 'Serbia', 'Mexico', 'UAE', 'Finland', 'Thailand', 'Panama', 'Qatar', 'Dominican Republic', 'Greece', 'Colombia', 'South Africa', 'Argentina', 'Iceland', 'Singapore', 'Algeria', 'Ukraine', 'Egypt', 'Croatia', 'Morocco', 'New Zealand', 'Estonia', 'Iraq', 'Slovenia', 'Moldova', 'Hong Kong', 'Lithuania', 'Belarus', 'Armenia', 'Hungary', 'Bahrain', 'Bosnia and Herzegovina', 'Kuwait', 'Azerbaijan', 'Diamond Princess', 'Kazakhstan', 'Cameroon', 'Tunisia', 'North Macedonia', 'Slovakia', 'Bulgaria', 'Lebanon', 'Latvia', 'Andorra', 'Uzbekistan', 'Cyprus', 'Costa Rica', 'Afghanistan', 'Uruguay', 'Cuba', 'Burkina Faso', 'Albania', 'Taiwan', 'Oman', 'Jordan', 'Ivory Coast', 'Réunion', 'Channel Islands', 'Honduras', 'Malta', 'Ghana', 'Niger', 'San Marino', 'Mauritius', 'Palestine', 'Nigeria', 'Vietnam', 'Montenegro', 'Senegal', 'Kyrgyzstan', 'Georgia', 'Bolivia', 'Sri Lanka', 'Faeroe Islands', 'DRC', 'Kenya', 'Venezuela', 'Bangladesh', 'Mayotte', 'Martinique', 'Isle of Man', 'Guinea', 'Guadeloupe', 'Brunei ', 'Paraguay', 'Cambodia', 'Gibraltar', 'Trinidad and Tobago', 'Rwanda', 'Djibouti', 'Madagascar', 'Monaco', 'El Salvador', 'Liechtenstein', 'Guatemala', 'Aruba', 'French Guiana', 'Togo', 'Barbados', 'Jamaica', 'Mali', 'Ethiopia', 'Uganda', 'French Polynesia', 'Congo', 'Cayman Islands', 'Macao', 'Sint Maarten', 'Bermuda', 'Zambia', 'Bahamas', 'Guyana', 'Guinea-Bissau', 'Saint Martin', 'Eritrea', 'Gabon', 'Benin', 'Haiti', 'Tanzania', 'Myanmar', 'Libya', 'Syria', 'Antigua and Barbuda', 'Maldives', 'New Caledonia', 'Angola', 'Equatorial Guinea', 'Namibia', 'Dominica', 'Fiji', 'Mongolia', 'Liberia', 'Sudan', 'Laos', 'Saint Lucia', 'Curaçao', 'Grenada', 'Zimbabwe', 'Greenland', 'Saint Kitts and Nevis', 'Seychelles', 'Suriname', 'Chad', 'Mozambique', 'Eswatini', 'MS Zaandam', 'Nepal', 'Montserrat', 'Malawi', 'Turks and Caicos', 'CAR', 'St. Vincent Grenadines', 'Somalia', 'Belize', 'Cabo Verde', 'Vatican City', 'Botswana', 'Mauritania', 'Nicaragua', 'St. Barth', 'Sierra Leone', 'Bhutan', 'Gambia', 'Sao Tome and Principe', 'Western Sahara', 'Anguilla', 'British Virgin Islands', 'Burundi', 'Caribbean Netherlands', 'Falkland Islands', 'Papua New Guinea', 'South Sudan', 'Saint Pierre Miquelon', 'Timor-Leste']\n\n\n212\n['1,424,124', '394,587', '141,942', '135,586', '109,069', '107,663', '81,740', '62,589', '55,242', '34,109', '22,253', '22,194', '19,580', '17,872', '14,018', '12,639', '12,442', '10,331', '9,248', '7,693', '7,497', '5,953', '5,919', '5,709', '5,311', '5,116', '5,071', '5,017', '4,848', '4,417', '4,035', '3,963', '3,906', '3,764', '3,747', '2,970', '2,954', '2,795', '2,738', '2,447', '2,439', '2,359', '2,308', '2,258', '2,100', '2,057', '1,956', '1,832', '1,780', '1,749', '1,628', '1,586', '1,481', '1,468', '1,462', '1,450', '1,282', '1,184', '1,160', '1,149', '1,122', '1,059', '1,056', '936', '880', '861', '853', '817', '811', '764', '743', '717', '712', '697', '658', '623', '599', '581', '577', '548', '548', '545', '504', '494', '483', '423', '415', '396', '384', '383', '376', '371', '353', '349', '349', '335', '305', '293', '287', '278', '277', '268', '261', '254', '249', '241', '237', '228', '196', '194', '185', '184', '180', '172', '165', '164', '164', '152', '150', '144', '139', '135', '115', '115', '113', '107', '105', '90', '88', '79', '78', '78', '77', '74', '72', '65', '63', '63', '56', '52', '52', '47', '45', '45', '44', '40', '39', '39', '33', '33', '33', '32', '31', '30', '26', '25', '24', '22', '20', '19', '19', '19', '18', '17', '16', '16', '15', '15', '15', '14', '14', '14', '14', '13', '12', '11', '11', '11', '11', '10', '10', '10', '10', '9', '9', '9', '8', '8', '8', '8', '8', '7', '7', '7', '6', '6', '6', '6', '6', '5', '4', '4', '4', '3', '3', '3', '2', '2', '2', '2', '1', '1']\n\n\n212\n"
    }
   ],
   "source": [
    "print(BC[0])\n",
    "print('\\n')\n",
    "print(len(BC[0]))\n",
    "print(BC[1])\n",
    "print('\\n')\n",
    "print(len(BC[1]))"
   ]
  },
  {
   "cell_type": "markdown",
   "metadata": {},
   "source": [
    "> creating the Dictionary"
   ]
  },
  {
   "cell_type": "code",
   "execution_count": 84,
   "metadata": {},
   "outputs": [],
   "source": [
    "CovidTuple = []\n",
    "for col in range(len(HL)):\n",
    "    x =(HL[col] ,BC[col])\n",
    "    CovidTuple.append(x)\n",
    "    "
   ]
  },
  {
   "cell_type": "code",
   "execution_count": 86,
   "metadata": {},
   "outputs": [],
   "source": [
    "CovidT = dict(CovidTuple)"
   ]
  },
  {
   "cell_type": "code",
   "execution_count": 91,
   "metadata": {},
   "outputs": [
    {
     "output_type": "execute_result",
     "data": {
      "text/plain": "['World',\n 'USA',\n 'Spain',\n 'Italy',\n 'France',\n 'Germany',\n 'China',\n 'Iran',\n 'UK',\n 'Turkey',\n 'Switzerland',\n 'Belgium',\n 'Netherlands',\n 'Canada',\n 'Brazil',\n 'Austria',\n 'Portugal',\n 'S. Korea',\n 'Israel',\n 'Sweden',\n 'Russia',\n 'Norway',\n 'Australia',\n 'Ireland',\n 'India',\n 'Chile',\n 'Denmark',\n 'Czechia',\n 'Poland',\n 'Romania',\n 'Pakistan',\n 'Malaysia',\n 'Japan',\n 'Philippines',\n 'Ecuador',\n 'Luxembourg',\n 'Peru',\n 'Saudi Arabia',\n 'Indonesia',\n 'Serbia',\n 'Mexico',\n 'UAE',\n 'Finland',\n 'Thailand',\n 'Panama',\n 'Qatar',\n 'Dominican Republic',\n 'Greece',\n 'Colombia',\n 'South Africa',\n 'Argentina',\n 'Iceland',\n 'Singapore',\n 'Algeria',\n 'Ukraine',\n 'Egypt',\n 'Croatia',\n 'Morocco',\n 'New Zealand',\n 'Estonia',\n 'Iraq',\n 'Slovenia',\n 'Moldova',\n 'Hong Kong',\n 'Lithuania',\n 'Belarus',\n 'Armenia',\n 'Hungary',\n 'Bahrain',\n 'Bosnia and Herzegovina',\n 'Kuwait',\n 'Azerbaijan',\n 'Diamond Princess',\n 'Kazakhstan',\n 'Cameroon',\n 'Tunisia',\n 'North Macedonia',\n 'Slovakia',\n 'Bulgaria',\n 'Lebanon',\n 'Latvia',\n 'Andorra',\n 'Uzbekistan',\n 'Cyprus',\n 'Costa Rica',\n 'Afghanistan',\n 'Uruguay',\n 'Cuba',\n 'Burkina Faso',\n 'Albania',\n 'Taiwan',\n 'Oman',\n 'Jordan',\n 'Ivory Coast',\n 'Réunion',\n 'Channel Islands',\n 'Honduras',\n 'Malta',\n 'Ghana',\n 'Niger',\n 'San Marino',\n 'Mauritius',\n 'Palestine',\n 'Nigeria',\n 'Vietnam',\n 'Montenegro',\n 'Senegal',\n 'Kyrgyzstan',\n 'Georgia',\n 'Bolivia',\n 'Sri Lanka',\n 'Faeroe Islands',\n 'DRC',\n 'Kenya',\n 'Venezuela',\n 'Bangladesh',\n 'Mayotte',\n 'Martinique',\n 'Isle of Man',\n 'Guinea',\n 'Guadeloupe',\n 'Brunei ',\n 'Paraguay',\n 'Cambodia',\n 'Gibraltar',\n 'Trinidad and Tobago',\n 'Rwanda',\n 'Djibouti',\n 'Madagascar',\n 'Monaco',\n 'El Salvador',\n 'Liechtenstein',\n 'Guatemala',\n 'Aruba',\n 'French Guiana',\n 'Togo',\n 'Barbados',\n 'Jamaica',\n 'Mali',\n 'Ethiopia',\n 'Uganda',\n 'French Polynesia',\n 'Congo',\n 'Cayman Islands',\n 'Macao',\n 'Sint Maarten',\n 'Bermuda',\n 'Zambia',\n 'Bahamas',\n 'Guyana',\n 'Guinea-Bissau',\n 'Saint Martin',\n 'Eritrea',\n 'Gabon',\n 'Benin',\n 'Haiti',\n 'Tanzania',\n 'Myanmar',\n 'Libya',\n 'Syria',\n 'Antigua and Barbuda',\n 'Maldives',\n 'New Caledonia',\n 'Angola',\n 'Equatorial Guinea',\n 'Namibia',\n 'Dominica',\n 'Fiji',\n 'Mongolia',\n 'Liberia',\n 'Sudan',\n 'Laos',\n 'Saint Lucia',\n 'Curaçao',\n 'Grenada',\n 'Zimbabwe',\n 'Greenland',\n 'Saint Kitts and Nevis',\n 'Seychelles',\n 'Suriname',\n 'Chad',\n 'Mozambique',\n 'Eswatini',\n 'MS Zaandam',\n 'Nepal',\n 'Montserrat',\n 'Malawi',\n 'Turks and Caicos',\n 'CAR',\n 'St. Vincent Grenadines',\n 'Somalia',\n 'Belize',\n 'Cabo Verde',\n 'Vatican City',\n 'Botswana',\n 'Mauritania',\n 'Nicaragua',\n 'St. Barth',\n 'Sierra Leone',\n 'Bhutan',\n 'Gambia',\n 'Sao Tome and Principe',\n 'Western Sahara',\n 'Anguilla',\n 'British Virgin Islands',\n 'Burundi',\n 'Caribbean Netherlands',\n 'Falkland Islands',\n 'Papua New Guinea',\n 'South Sudan',\n 'Saint Pierre Miquelon',\n 'Timor-Leste']"
     },
     "metadata": {},
     "execution_count": 91
    }
   ],
   "source": [
    "CovidT['Country']"
   ]
  },
  {
   "cell_type": "markdown",
   "metadata": {},
   "source": [
    "## amazing so work no let's craete the dataframe"
   ]
  },
  {
   "cell_type": "code",
   "execution_count": 93,
   "metadata": {},
   "outputs": [],
   "source": [
    "CovidDF = pd.DataFrame(CovidT , columns= HL)"
   ]
  },
  {
   "cell_type": "code",
   "execution_count": 94,
   "metadata": {},
   "outputs": [
    {
     "output_type": "execute_result",
     "data": {
      "text/plain": "                   Country TotalCases NewCases TotalDeaths NewDeaths  \\\n0                    World  1,424,124  +78,088      81,889    +7,235   \n1                      USA    394,587  +27,583     12,748     +1,877   \n2                    Spain    141,942   +5,267     14,045       +704   \n3                    Italy    135,586   +3,039     17,127       +604   \n4                   France    109,069  +11,059     10,328     +1,417   \n..                     ...        ...      ...         ...       ...   \n207       Falkland Islands          2                                  \n208       Papua New Guinea          2                                  \n209            South Sudan          2       +1                         \n210  Saint Pierre Miquelon          1                                  \n211            Timor-Leste          1                                  \n\n    TotalRecovered ActiveCases SeriousCritical TotCases_1M pop Deaths_1M pop  \\\n0          301,731   1,040,504          47,912             183          10.5   \n1           21,674     360,165           9,169           1,192            39   \n2           43,208      84,689           7,069           3,036           300   \n3           24,392      94,067           3,792           2,243           283   \n4           19,337      79,404           7,131           1,671           158   \n..             ...         ...             ...             ...           ...   \n207                          2                             575                 \n208                          2                             0.2                 \n209                          2                             0.2                 \n210                          1                             173                 \n211                          1                             0.8                 \n\n    TotalTests Tests_1M pop  \n0                            \n1    2,062,831        6,232  \n2      355,000        7,593  \n3      755,445       12,495  \n4      224,254        3,436  \n..         ...          ...  \n207                          \n208         72            8  \n209                          \n210                          \n211                          \n\n[212 rows x 12 columns]",
      "text/html": "<div>\n<style scoped>\n    .dataframe tbody tr th:only-of-type {\n        vertical-align: middle;\n    }\n\n    .dataframe tbody tr th {\n        vertical-align: top;\n    }\n\n    .dataframe thead th {\n        text-align: right;\n    }\n</style>\n<table border=\"1\" class=\"dataframe\">\n  <thead>\n    <tr style=\"text-align: right;\">\n      <th></th>\n      <th>Country</th>\n      <th>TotalCases</th>\n      <th>NewCases</th>\n      <th>TotalDeaths</th>\n      <th>NewDeaths</th>\n      <th>TotalRecovered</th>\n      <th>ActiveCases</th>\n      <th>SeriousCritical</th>\n      <th>TotCases_1M pop</th>\n      <th>Deaths_1M pop</th>\n      <th>TotalTests</th>\n      <th>Tests_1M pop</th>\n    </tr>\n  </thead>\n  <tbody>\n    <tr>\n      <td>0</td>\n      <td>World</td>\n      <td>1,424,124</td>\n      <td>+78,088</td>\n      <td>81,889</td>\n      <td>+7,235</td>\n      <td>301,731</td>\n      <td>1,040,504</td>\n      <td>47,912</td>\n      <td>183</td>\n      <td>10.5</td>\n      <td></td>\n      <td></td>\n    </tr>\n    <tr>\n      <td>1</td>\n      <td>USA</td>\n      <td>394,587</td>\n      <td>+27,583</td>\n      <td>12,748</td>\n      <td>+1,877</td>\n      <td>21,674</td>\n      <td>360,165</td>\n      <td>9,169</td>\n      <td>1,192</td>\n      <td>39</td>\n      <td>2,062,831</td>\n      <td>6,232</td>\n    </tr>\n    <tr>\n      <td>2</td>\n      <td>Spain</td>\n      <td>141,942</td>\n      <td>+5,267</td>\n      <td>14,045</td>\n      <td>+704</td>\n      <td>43,208</td>\n      <td>84,689</td>\n      <td>7,069</td>\n      <td>3,036</td>\n      <td>300</td>\n      <td>355,000</td>\n      <td>7,593</td>\n    </tr>\n    <tr>\n      <td>3</td>\n      <td>Italy</td>\n      <td>135,586</td>\n      <td>+3,039</td>\n      <td>17,127</td>\n      <td>+604</td>\n      <td>24,392</td>\n      <td>94,067</td>\n      <td>3,792</td>\n      <td>2,243</td>\n      <td>283</td>\n      <td>755,445</td>\n      <td>12,495</td>\n    </tr>\n    <tr>\n      <td>4</td>\n      <td>France</td>\n      <td>109,069</td>\n      <td>+11,059</td>\n      <td>10,328</td>\n      <td>+1,417</td>\n      <td>19,337</td>\n      <td>79,404</td>\n      <td>7,131</td>\n      <td>1,671</td>\n      <td>158</td>\n      <td>224,254</td>\n      <td>3,436</td>\n    </tr>\n    <tr>\n      <td>...</td>\n      <td>...</td>\n      <td>...</td>\n      <td>...</td>\n      <td>...</td>\n      <td>...</td>\n      <td>...</td>\n      <td>...</td>\n      <td>...</td>\n      <td>...</td>\n      <td>...</td>\n      <td>...</td>\n      <td>...</td>\n    </tr>\n    <tr>\n      <td>207</td>\n      <td>Falkland Islands</td>\n      <td>2</td>\n      <td></td>\n      <td></td>\n      <td></td>\n      <td></td>\n      <td>2</td>\n      <td></td>\n      <td>575</td>\n      <td></td>\n      <td></td>\n      <td></td>\n    </tr>\n    <tr>\n      <td>208</td>\n      <td>Papua New Guinea</td>\n      <td>2</td>\n      <td></td>\n      <td></td>\n      <td></td>\n      <td></td>\n      <td>2</td>\n      <td></td>\n      <td>0.2</td>\n      <td></td>\n      <td>72</td>\n      <td>8</td>\n    </tr>\n    <tr>\n      <td>209</td>\n      <td>South Sudan</td>\n      <td>2</td>\n      <td>+1</td>\n      <td></td>\n      <td></td>\n      <td></td>\n      <td>2</td>\n      <td></td>\n      <td>0.2</td>\n      <td></td>\n      <td></td>\n      <td></td>\n    </tr>\n    <tr>\n      <td>210</td>\n      <td>Saint Pierre Miquelon</td>\n      <td>1</td>\n      <td></td>\n      <td></td>\n      <td></td>\n      <td></td>\n      <td>1</td>\n      <td></td>\n      <td>173</td>\n      <td></td>\n      <td></td>\n      <td></td>\n    </tr>\n    <tr>\n      <td>211</td>\n      <td>Timor-Leste</td>\n      <td>1</td>\n      <td></td>\n      <td></td>\n      <td></td>\n      <td></td>\n      <td>1</td>\n      <td></td>\n      <td>0.8</td>\n      <td></td>\n      <td></td>\n      <td></td>\n    </tr>\n  </tbody>\n</table>\n<p>212 rows × 12 columns</p>\n</div>"
     },
     "metadata": {},
     "execution_count": 94
    }
   ],
   "source": [
    "CovidDF"
   ]
  },
  {
   "cell_type": "code",
   "execution_count": 100,
   "metadata": {},
   "outputs": [],
   "source": [
    "name = str(time.ctime()).replace(' ', '').replace(':','_') +'.csv'\n",
    "CovidDF.to_csv(name)\n",
    ""
   ]
  },
  {
   "cell_type": "code",
   "execution_count": null,
   "metadata": {},
   "outputs": [],
   "source": []
  }
 ]
}