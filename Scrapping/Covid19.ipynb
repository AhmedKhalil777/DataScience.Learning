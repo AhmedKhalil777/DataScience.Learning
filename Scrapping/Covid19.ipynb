{
 "nbformat": 4,
 "nbformat_minor": 2,
 "metadata": {
  "language_info": {
   "name": "python",
   "codemirror_mode": {
    "name": "ipython",
    "version": 3
   },
   "version": "3.7.4-final"
  },
  "orig_nbformat": 2,
  "file_extension": ".py",
  "mimetype": "text/x-python",
  "name": "python",
  "npconvert_exporter": "python",
  "pygments_lexer": "ipython3",
  "version": 3,
  "kernelspec": {
   "name": "python3",
   "display_name": "Python 3"
  }
 },
 "cells": [
  {
   "cell_type": "markdown",
   "metadata": {},
   "source": [
    "# In The Name Of ALLAH \n",
    "- Scrapping The Datatable of https://www.worldometers.info/coronavirus/\n"
   ]
  },
  {
   "cell_type": "markdown",
   "metadata": {},
   "source": [
    "## Imports \n",
    "- Selenium to get the website content by web driver\n",
    "- BeutifulSoup to scrap the data from the Html content\n",
    "- time to simulate in specific time {Showing Us before its implement}\n",
    "- Pandas to save the data scrapped as a CSV"
   ]
  },
  {
   "cell_type": "code",
   "execution_count": 1,
   "metadata": {},
   "outputs": [],
   "source": [
    "# selenium\n",
    "from selenium import webdriver\n",
    "from selenium.webdriver.common.keys import Keys\n",
    "from selenium.webdriver.chrome.options import Options\n",
    "#bs\n",
    "from bs4 import BeautifulSoup\n",
    "from bs4 import element\n",
    "# time\n",
    "import time\n",
    "# Pandas\n",
    "import pandas as pd\n",
    ""
   ]
  },
  {
   "cell_type": "markdown",
   "metadata": {},
   "source": [
    "## Creating The Driver and adding the Browser driver options"
   ]
  },
  {
   "cell_type": "code",
   "execution_count": 2,
   "metadata": {},
   "outputs": [],
   "source": [
    "# Options \n",
    "#Options = webdriver.ChromeOptions()\n",
    "#Options.add_argument('--ignore-certificate-error')\n",
    "#Options.add_argument('--incognitio')\n",
    "#Options.add_argument('--headless')\n",
    "#driver = webdriver.Chrome(options= Options)\n",
    "chromeOption = Options()\n",
    "#chromeOption.add_argument('--kiosk')\n",
    "driver = webdriver.Chrome(options= chromeOption)\n",
    ""
   ]
  },
  {
   "cell_type": "markdown",
   "metadata": {},
   "source": [
    "# Open the Site to Scrap it"
   ]
  },
  {
   "cell_type": "code",
   "execution_count": 3,
   "metadata": {},
   "outputs": [],
   "source": [
    "\n",
    "driver.get('https://www.worldometers.info/coronavirus/')\n",
    ""
   ]
  },
  {
   "cell_type": "code",
   "execution_count": null,
   "metadata": {},
   "outputs": [],
   "source": [
    "#if you need to getting the data of yesterday\n"
   ]
  },
  {
   "cell_type": "markdown",
   "metadata": {},
   "source": [
    "## Getting the Table Content"
   ]
  },
  {
   "cell_type": "code",
   "execution_count": 8,
   "metadata": {},
   "outputs": [],
   "source": [
    "PGsrc = driver.page_source\n",
    "PageSrc = BeautifulSoup( PGsrc , \"lxml\")\n",
    "HtmlTable =PageSrc.find(id ='main_table_countries_today')\n",
    ""
   ]
  },
  {
   "cell_type": "code",
   "execution_count": 13,
   "metadata": {},
   "outputs": [],
   "source": [
    "PGsrc = driver.page_source\n",
    "PageSrc = BeautifulSoup( PGsrc , \"lxml\")\n",
    "HtmlTable =PageSrc.find(id ='main_table_countries_yesterday')"
   ]
  },
  {
   "cell_type": "code",
   "execution_count": 14,
   "metadata": {},
   "outputs": [],
   "source": [
    "# HtmlTable.prettify() show the content of TableHtml\n",
    ""
   ]
  },
  {
   "cell_type": "markdown",
   "metadata": {},
   "source": [
    "## Scrapping The Thead to get the attributes names\n",
    "- Getting table headers as list\n",
    "- trying to extract the strings from them\n"
   ]
  },
  {
   "cell_type": "code",
   "execution_count": 15,
   "metadata": {},
   "outputs": [
    {
     "output_type": "execute_result",
     "data": {
      "text/plain": "[<th aria-controls=\"main_table_countries_yesterday\" aria-label=\"Country,Other: activate to sort column descending\" aria-sort=\"ascending\" class=\"sorting_asc\" colspan=\"1\" rowspan=\"1\" style=\"width: 101px;\" tabindex=\"0\" width=\"100\">Country,<br/>Other</th>,\n <th aria-controls=\"main_table_countries_yesterday\" aria-label=\"TotalCases: activate to sort column ascending\" class=\"sorting\" colspan=\"1\" rowspan=\"1\" style=\"width: 48px;\" tabindex=\"0\" width=\"20\">Total<br/>Cases</th>,\n <th aria-controls=\"main_table_countries_yesterday\" aria-label=\"NewCases: activate to sort column ascending\" class=\"sorting\" colspan=\"1\" rowspan=\"1\" style=\"width: 42px;\" tabindex=\"0\" width=\"30\">New<br/>Cases</th>,\n <th aria-controls=\"main_table_countries_yesterday\" aria-label=\"TotalDeaths: activate to sort column ascending\" class=\"sorting\" colspan=\"1\" rowspan=\"1\" style=\"width: 48px;\" tabindex=\"0\" width=\"30\">Total<br/>Deaths</th>,\n <th aria-controls=\"main_table_countries_yesterday\" aria-label=\"NewDeaths: activate to sort column ascending\" class=\"sorting\" colspan=\"1\" rowspan=\"1\" style=\"width: 48px;\" tabindex=\"0\" width=\"30\">New<br/>Deaths</th>,\n <th aria-controls=\"main_table_countries_yesterday\" aria-label=\"TotalRecovered: activate to sort column ascending\" class=\"sorting\" colspan=\"1\" rowspan=\"1\" style=\"width: 73px;\" tabindex=\"0\" width=\"30\">Total<br/>Recovered</th>,\n <th aria-controls=\"main_table_countries_yesterday\" aria-label=\"ActiveCases: activate to sort column ascending\" class=\"sorting\" colspan=\"1\" rowspan=\"1\" style=\"width: 48px;\" tabindex=\"0\" width=\"30\">Active<br/>Cases</th>,\n <th aria-controls=\"main_table_countries_yesterday\" aria-label=\"Serious,Critical: activate to sort column ascending\" class=\"sorting\" colspan=\"1\" rowspan=\"1\" style=\"width: 56px;\" tabindex=\"0\" width=\"30\">Serious,<br/>Critical</th>,\n <th aria-controls=\"main_table_countries_yesterday\" aria-label=\"Tot&amp;nbsp;Cases/1M pop: activate to sort column ascending\" class=\"sorting\" colspan=\"1\" rowspan=\"1\" style=\"width: 70px;\" tabindex=\"0\" width=\"30\">Tot Cases/<br/>1M pop</th>,\n <th aria-controls=\"main_table_countries_yesterday\" aria-label=\"Deaths/1M pop: activate to sort column ascending\" class=\"sorting\" colspan=\"1\" rowspan=\"1\" style=\"width: 51px;\" tabindex=\"0\" width=\"30\">Deaths/<br/>1M pop</th>,\n <th aria-controls=\"main_table_countries_yesterday\" aria-label=\"TotalTests: activate to sort column ascending\" class=\"sorting\" colspan=\"1\" rowspan=\"1\" style=\"width: 48px;\" tabindex=\"0\" width=\"30\">Total<br/>Tests</th>,\n <th aria-controls=\"main_table_countries_yesterday\" aria-label=\"Tests/\n 1M pop\n : activate to sort column ascending\" class=\"sorting\" colspan=\"1\" rowspan=\"1\" style=\"width: 49px;\" tabindex=\"0\" width=\"30\">Tests/<br/>\n <nobr>1M pop</nobr>\n </th>,\n <th aria-controls=\"main_table_countries_yesterday\" aria-label=\"Continent: activate to sort column ascending\" class=\"sorting\" colspan=\"1\" rowspan=\"1\" style=\"display: none; width: 0px;\" tabindex=\"0\" width=\"30\">Continent</th>]"
     },
     "metadata": {},
     "execution_count": 15
    }
   ],
   "source": [
    "\n",
    "Covid_headers = HtmlTable.thead.find_all('th')\n",
    "Covid_headers\n",
    ""
   ]
  },
  {
   "cell_type": "markdown",
   "metadata": {},
   "source": [
    "> Observing a `br` element in the middile of each header"
   ]
  },
  {
   "cell_type": "code",
   "execution_count": 16,
   "metadata": {},
   "outputs": [
    {
     "output_type": "stream",
     "name": "stdout",
     "text": "<th aria-controls=\"main_table_countries_yesterday\" aria-label=\"Country,Other: activate to sort column descending\" aria-sort=\"ascending\" class=\"sorting_asc\" colspan=\"1\" rowspan=\"1\" style=\"width: 101px;\" tabindex=\"0\" width=\"100\">Country,Other</th>\n<th aria-controls=\"main_table_countries_yesterday\" aria-label=\"TotalCases: activate to sort column ascending\" class=\"sorting\" colspan=\"1\" rowspan=\"1\" style=\"width: 48px;\" tabindex=\"0\" width=\"20\">TotalCases</th>\n<th aria-controls=\"main_table_countries_yesterday\" aria-label=\"NewCases: activate to sort column ascending\" class=\"sorting\" colspan=\"1\" rowspan=\"1\" style=\"width: 42px;\" tabindex=\"0\" width=\"30\">NewCases</th>\n<th aria-controls=\"main_table_countries_yesterday\" aria-label=\"TotalDeaths: activate to sort column ascending\" class=\"sorting\" colspan=\"1\" rowspan=\"1\" style=\"width: 48px;\" tabindex=\"0\" width=\"30\">TotalDeaths</th>\n<th aria-controls=\"main_table_countries_yesterday\" aria-label=\"NewDeaths: activate to sort column ascending\" class=\"sorting\" colspan=\"1\" rowspan=\"1\" style=\"width: 48px;\" tabindex=\"0\" width=\"30\">NewDeaths</th>\n<th aria-controls=\"main_table_countries_yesterday\" aria-label=\"TotalRecovered: activate to sort column ascending\" class=\"sorting\" colspan=\"1\" rowspan=\"1\" style=\"width: 73px;\" tabindex=\"0\" width=\"30\">TotalRecovered</th>\n<th aria-controls=\"main_table_countries_yesterday\" aria-label=\"ActiveCases: activate to sort column ascending\" class=\"sorting\" colspan=\"1\" rowspan=\"1\" style=\"width: 48px;\" tabindex=\"0\" width=\"30\">ActiveCases</th>\n<th aria-controls=\"main_table_countries_yesterday\" aria-label=\"Serious,Critical: activate to sort column ascending\" class=\"sorting\" colspan=\"1\" rowspan=\"1\" style=\"width: 56px;\" tabindex=\"0\" width=\"30\">Serious,Critical</th>\n<th aria-controls=\"main_table_countries_yesterday\" aria-label=\"Tot&amp;nbsp;Cases/1M pop: activate to sort column ascending\" class=\"sorting\" colspan=\"1\" rowspan=\"1\" style=\"width: 70px;\" tabindex=\"0\" width=\"30\">Tot Cases/1M pop</th>\n<th aria-controls=\"main_table_countries_yesterday\" aria-label=\"Deaths/1M pop: activate to sort column ascending\" class=\"sorting\" colspan=\"1\" rowspan=\"1\" style=\"width: 51px;\" tabindex=\"0\" width=\"30\">Deaths/1M pop</th>\n<th aria-controls=\"main_table_countries_yesterday\" aria-label=\"TotalTests: activate to sort column ascending\" class=\"sorting\" colspan=\"1\" rowspan=\"1\" style=\"width: 48px;\" tabindex=\"0\" width=\"30\">TotalTests</th>\n<th aria-controls=\"main_table_countries_yesterday\" aria-label=\"Tests/\n1M pop\n: activate to sort column ascending\" class=\"sorting\" colspan=\"1\" rowspan=\"1\" style=\"width: 49px;\" tabindex=\"0\" width=\"30\">Tests/\n<nobr>1M pop</nobr>\n</th>\n"
    },
    {
     "output_type": "error",
     "ename": "AttributeError",
     "evalue": "'NoneType' object has no attribute 'decompose'",
     "traceback": [
      "\u001b[1;31m---------------------------------------------------------------------------\u001b[0m",
      "\u001b[1;31mAttributeError\u001b[0m                            Traceback (most recent call last)",
      "\u001b[1;32m<ipython-input-16-b51b717fe127>\u001b[0m in \u001b[0;36m<module>\u001b[1;34m\u001b[0m\n\u001b[0;32m      1\u001b[0m \u001b[1;32mfor\u001b[0m \u001b[0mheader\u001b[0m \u001b[1;32min\u001b[0m \u001b[0mCovid_headers\u001b[0m\u001b[1;33m:\u001b[0m\u001b[1;33m\u001b[0m\u001b[1;33m\u001b[0m\u001b[0m\n\u001b[1;32m----> 2\u001b[1;33m     \u001b[0mheader\u001b[0m\u001b[1;33m.\u001b[0m\u001b[0mbr\u001b[0m\u001b[1;33m.\u001b[0m\u001b[0mdecompose\u001b[0m\u001b[1;33m(\u001b[0m\u001b[1;33m)\u001b[0m\u001b[1;33m\u001b[0m\u001b[1;33m\u001b[0m\u001b[0m\n\u001b[0m\u001b[0;32m      3\u001b[0m     \u001b[0mprint\u001b[0m\u001b[1;33m(\u001b[0m\u001b[0mheader\u001b[0m\u001b[1;33m)\u001b[0m\u001b[1;33m\u001b[0m\u001b[1;33m\u001b[0m\u001b[0m\n",
      "\u001b[1;31mAttributeError\u001b[0m: 'NoneType' object has no attribute 'decompose'"
     ]
    }
   ],
   "source": [
    "for header in Covid_headers:\n",
    "    header.br.decompose()\n",
    "    print(header)"
   ]
  },
  {
   "cell_type": "code",
   "execution_count": 17,
   "metadata": {},
   "outputs": [
    {
     "output_type": "execute_result",
     "data": {
      "text/plain": "['Country,Other',\n 'TotalCases',\n 'NewCases',\n 'TotalDeaths',\n 'NewDeaths',\n 'TotalRecovered',\n 'ActiveCases',\n 'Serious,Critical',\n 'Tot\\xa0Cases/1M pop',\n 'Deaths/1M pop',\n 'TotalTests',\n 'Tests/\\n1M pop\\n',\n 'Continent']"
     },
     "metadata": {},
     "execution_count": 17
    }
   ],
   "source": [
    "HL =[]\n",
    "for header in Covid_headers:\n",
    "    HL.append(header.text)\n",
    "HL\n",
    "\n",
    "\n",
    "    "
   ]
  },
  {
   "cell_type": "markdown",
   "metadata": {},
   "source": [
    "> Good we made it, But the names must be so clear enouph, removing the mistakes"
   ]
  },
  {
   "cell_type": "code",
   "execution_count": 18,
   "metadata": {},
   "outputs": [
    {
     "output_type": "execute_result",
     "data": {
      "text/plain": "['Country',\n 'TotalCases',\n 'NewCases',\n 'TotalDeaths',\n 'NewDeaths',\n 'TotalRecovered',\n 'ActiveCases',\n 'SeriousCritical',\n 'TotCases_1M pop',\n 'Deaths_1M pop',\n 'TotalTests',\n 'Tests_1M pop',\n 'Continent']"
     },
     "metadata": {},
     "execution_count": 18
    }
   ],
   "source": [
    "def remove_mis(word):\n",
    "    return str(word).replace(',','').replace('Other','').replace('\\xa0','').replace('/','_').replace('\\n','')\n",
    "HL = list(map(remove_mis, HL))\n",
    "HL"
   ]
  },
  {
   "cell_type": "markdown",
   "metadata": {},
   "source": [
    "## Scrap the Body of the table"
   ]
  },
  {
   "cell_type": "code",
   "execution_count": 19,
   "metadata": {},
   "outputs": [
    {
     "output_type": "execute_result",
     "data": {
      "text/plain": "<tr class=\"total_row_world row_continent odd\" data-continent=\"\" role=\"row\" style=\"display: none\">\n<td class=\"sorting_1\" style=\"text-align:left;\">\n<nobr></nobr>\n</td>\n<td class=\"\">721</td>\n<td></td>\n<td>13</td>\n<td></td>\n<td>619</td>\n<td>89</td>\n<td>10</td>\n<td></td>\n<td></td>\n<td></td>\n<td></td>\n<td data-continent=\"\" style=\"display:none;\"></td>\n</tr>"
     },
     "metadata": {},
     "execution_count": 19
    }
   ],
   "source": [
    "Covid_body = HtmlTable.tbody.find_all('tr')\n",
    "Covid_body[0]"
   ]
  },
  {
   "cell_type": "markdown",
   "metadata": {},
   "source": [
    "> We need a List of Lists to apply all the body\n"
   ]
  },
  {
   "cell_type": "code",
   "execution_count": 20,
   "metadata": {},
   "outputs": [],
   "source": [
    "BL =[[]]\n",
    "i=0\n",
    "for trow in Covid_body:\n",
    "    x = []\n",
    "    for tdata in trow.find_all('td'):\n",
    "        x.append(tdata.text)\n",
    "    i = i+1\n",
    "    BL.append(x)\n",
    "    "
   ]
  },
  {
   "cell_type": "code",
   "execution_count": 24,
   "metadata": {},
   "outputs": [
    {
     "output_type": "execute_result",
     "data": {
      "text/plain": "['\\n\\n', '721', '', '13', '', '619', '89', '10', '', '', '', '', '']"
     },
     "metadata": {},
     "execution_count": 24
    }
   ],
   "source": [
    "BL[1]"
   ]
  },
  {
   "cell_type": "code",
   "execution_count": 75,
   "metadata": {},
   "outputs": [
    {
     "output_type": "execute_result",
     "data": {
      "text/plain": "[]"
     },
     "metadata": {},
     "execution_count": 75
    }
   ],
   "source": [
    "BL[0]"
   ]
  },
  {
   "cell_type": "code",
   "execution_count": 25,
   "metadata": {},
   "outputs": [
    {
     "output_type": "execute_result",
     "data": {
      "text/plain": "['\\n\\n', '721', '', '13', '', '619', '89', '10', '', '', '', '', '']"
     },
     "metadata": {},
     "execution_count": 25
    }
   ],
   "source": [
    "BL.remove([]) \n",
    "BL[0]\n",
    ""
   ]
  },
  {
   "cell_type": "markdown",
   "metadata": {},
   "source": [
    "> Good Let's save it as CSV file\n",
    "- But first we need columns to save not rows\n"
   ]
  },
  {
   "cell_type": "code",
   "execution_count": 26,
   "metadata": {},
   "outputs": [],
   "source": [
    "table = {}\n",
    "BC =[[]]\n",
    "for col in range(len(HL)):\n",
    "    BC.append([])\n",
    "    for row in BL:\n",
    "        BC[col].append(row[col])\n",
    "\n",
    "\n",
    ""
   ]
  },
  {
   "cell_type": "markdown",
   "metadata": {},
   "source": [
    "## We just need some of prints"
   ]
  },
  {
   "cell_type": "code",
   "execution_count": 27,
   "metadata": {},
   "outputs": [
    {
     "output_type": "stream",
     "name": "stdout",
     "text": "['\\n\\n', 'Afghanistan', '\\nAfrica\\n', 'Albania', 'Algeria', 'Andorra', 'Angola', 'Anguilla', 'Antigua and Barbuda', 'Argentina', 'Armenia', 'Aruba', '\\nAsia\\n', 'Australia', 'Austria', 'Azerbaijan', 'Bahamas', 'Bahrain', 'Bangladesh', 'Barbados', 'Belarus', 'Belgium', 'Belize', 'Benin', 'Bermuda', 'Bhutan', 'Bolivia', 'Bosnia and Herzegovina', 'Botswana', 'Brazil', 'British Virgin Islands', 'Brunei ', 'Bulgaria', 'Burkina Faso', 'Burundi', 'Cabo Verde', 'Cambodia', 'Cameroon', 'Canada', 'CAR', 'Caribbean Netherlands', 'Cayman Islands', 'Chad', 'Channel Islands', 'Chile', 'China', 'Colombia', 'Congo', 'Costa Rica', 'Croatia', 'Cuba', 'Curaçao', 'Cyprus', 'Czechia', 'Denmark', 'Diamond Princess', 'Djibouti', 'Dominica', 'Dominican Republic', 'DRC', 'Ecuador', 'Egypt', 'El Salvador', 'Equatorial Guinea', 'Eritrea', 'Estonia', 'Eswatini', 'Ethiopia', '\\nEurope\\n', 'Faeroe Islands', 'Falkland Islands', 'Fiji', 'Finland', 'France', 'French Guiana', 'French Polynesia', 'Gabon', 'Gambia', 'Georgia', 'Germany', 'Ghana', 'Gibraltar', 'Greece', 'Greenland', 'Grenada', 'Guadeloupe', 'Guatemala', 'Guinea', 'Guinea-Bissau', 'Guyana', 'Haiti', 'Honduras', 'Hong Kong', 'Hungary', 'Iceland', 'India', 'Indonesia', 'Iran', 'Iraq', 'Ireland', 'Isle of Man', 'Israel', 'Italy', 'Ivory Coast', 'Jamaica', 'Japan', 'Jordan', 'Kazakhstan', 'Kenya', 'Kuwait', 'Kyrgyzstan', 'Laos', 'Latvia', 'Lebanon', 'Liberia', 'Libya', 'Liechtenstein', 'Lithuania', 'Luxembourg', 'Macao', 'Madagascar', 'Malawi', 'Malaysia', 'Maldives', 'Mali', 'Malta', 'Martinique', 'Mauritania', 'Mauritius', 'Mayotte', 'Mexico', 'Moldova', 'Monaco', 'Mongolia', 'Montenegro', 'Montserrat', 'Morocco', 'Mozambique', 'MS Zaandam', 'Myanmar', 'Namibia', 'Nepal', 'Netherlands', 'New Caledonia', 'New Zealand', 'Nicaragua', 'Niger', 'Nigeria', '\\nNorth America\\n', 'North Macedonia', 'Norway', '\\nOceania\\n', 'Oman', 'Pakistan', 'Palestine', 'Panama', 'Papua New Guinea', 'Paraguay', 'Peru', 'Philippines', 'Poland', 'Portugal', 'Qatar', 'Romania', 'Russia', 'Rwanda', 'Réunion', 'S. Korea', 'Saint Kitts and Nevis', 'Saint Lucia', 'Saint Martin', 'Saint Pierre Miquelon', 'San Marino', 'Sao Tome and Principe', 'Saudi Arabia', 'Senegal', 'Serbia', 'Seychelles', 'Sierra Leone', 'Singapore', 'Sint Maarten', 'Slovakia', 'Slovenia', 'Somalia', 'South Africa', '\\nSouth America\\n', 'South Sudan', 'Spain', 'Sri Lanka', 'St. Barth', 'St. Vincent Grenadines', 'Sudan', 'Suriname', 'Sweden', 'Switzerland', 'Syria', 'Taiwan', 'Tanzania', 'Thailand', 'Timor-Leste', 'Togo', 'Trinidad and Tobago', 'Tunisia', 'Turkey', 'Turks and Caicos', 'UAE', 'Uganda', 'UK', 'Ukraine', 'Uruguay', 'USA', 'Uzbekistan', 'Vatican City', 'Venezuela', 'Vietnam', 'Western Sahara', 'World', 'Zambia', 'Zimbabwe']\n\n\n219\n['721', '444', '11,986', '400', '1,572', '564', '19', '3', '19', '1,795', '881', '77', '253,309', '6,052', '12,942', '822', '40', '823', '218', '63', '1,066', '23,403', '8', '26', '39', '5', '210', '804', '6', '16,188', '3', '135', '593', '414', '3', '7', '117', '730', '19,438', '8', '2', '45', '10', '351', '5,546', '81,802', '2,054', '45', '502', '1,343', '457', '14', '526', '5,312', '5,402', '712', '135', '15', '2,111', '180', '4,450', '1,560', '93', '18', '33', '1,185', '12', '55', '744,916', '184', '5', '15', '2,487', '112,950', '83', '51', '34', '4', '211', '113,296', '313', '120', '1,884', '11', '12', '141', '87', '164', '33', '37', '27', '312', '961', '895', '1,616', '5,916', '2,956', '64,586', '1,202', '6,074', '158', '9,404', '139,422', '384', '63', '4,667', '358', '727', '179', '855', '270', '15', '577', '576', '31', '21', '78', '912', '3,034', '45', '93', '8', '4,119', '19', '59', '299', '154', '6', '273', '184', '2,785', '1,174', '81', '16', '248', '9', '1,275', '17', '9', '22', '16', '9', '20,549', '18', '1,210', '6', '342', '276', '464,218', '617', '6,042', '7,348', '419', '4,263', '263', '2,528', '2', '119', '4,342', '3,870', '5,205', '13,141', '2,210', '4,761', '8,672', '110', '362', '10,384', '11', '14', '32', '1', '308', '4', '2,932', '244', '2,666', '11', '7', '1,623', '40', '682', '1,091', '12', '1,845', '35,462', '2', '148,220', '189', '6', '8', '14', '10', '8,419', '23,280', '19', '379', '25', '2,369', '1', '70', '107', '628', '38,226', '8', '2,659', '53', '60,733', '1,668', '456', '434,927', '545', '8', '167', '251', '4', '1,517,960', '39', '11']\n\n\n219\n"
    }
   ],
   "source": [
    "print(BC[0])\n",
    "print('\\n')\n",
    "print(len(BC[0]))\n",
    "print(BC[1])\n",
    "print('\\n')\n",
    "print(len(BC[1]))"
   ]
  },
  {
   "cell_type": "markdown",
   "metadata": {},
   "source": [
    "> creating the Dictionary"
   ]
  },
  {
   "cell_type": "code",
   "execution_count": 28,
   "metadata": {},
   "outputs": [],
   "source": [
    "CovidTuple = []\n",
    "for col in range(len(HL)):\n",
    "    x =(HL[col] ,BC[col])\n",
    "    CovidTuple.append(x)\n",
    "    "
   ]
  },
  {
   "cell_type": "code",
   "execution_count": 29,
   "metadata": {},
   "outputs": [],
   "source": [
    "CovidT = dict(CovidTuple)"
   ]
  },
  {
   "cell_type": "code",
   "execution_count": 30,
   "metadata": {},
   "outputs": [
    {
     "output_type": "execute_result",
     "data": {
      "text/plain": "['\\n\\n',\n 'Afghanistan',\n '\\nAfrica\\n',\n 'Albania',\n 'Algeria',\n 'Andorra',\n 'Angola',\n 'Anguilla',\n 'Antigua and Barbuda',\n 'Argentina',\n 'Armenia',\n 'Aruba',\n '\\nAsia\\n',\n 'Australia',\n 'Austria',\n 'Azerbaijan',\n 'Bahamas',\n 'Bahrain',\n 'Bangladesh',\n 'Barbados',\n 'Belarus',\n 'Belgium',\n 'Belize',\n 'Benin',\n 'Bermuda',\n 'Bhutan',\n 'Bolivia',\n 'Bosnia and Herzegovina',\n 'Botswana',\n 'Brazil',\n 'British Virgin Islands',\n 'Brunei ',\n 'Bulgaria',\n 'Burkina Faso',\n 'Burundi',\n 'Cabo Verde',\n 'Cambodia',\n 'Cameroon',\n 'Canada',\n 'CAR',\n 'Caribbean Netherlands',\n 'Cayman Islands',\n 'Chad',\n 'Channel Islands',\n 'Chile',\n 'China',\n 'Colombia',\n 'Congo',\n 'Costa Rica',\n 'Croatia',\n 'Cuba',\n 'Curaçao',\n 'Cyprus',\n 'Czechia',\n 'Denmark',\n 'Diamond Princess',\n 'Djibouti',\n 'Dominica',\n 'Dominican Republic',\n 'DRC',\n 'Ecuador',\n 'Egypt',\n 'El Salvador',\n 'Equatorial Guinea',\n 'Eritrea',\n 'Estonia',\n 'Eswatini',\n 'Ethiopia',\n '\\nEurope\\n',\n 'Faeroe Islands',\n 'Falkland Islands',\n 'Fiji',\n 'Finland',\n 'France',\n 'French Guiana',\n 'French Polynesia',\n 'Gabon',\n 'Gambia',\n 'Georgia',\n 'Germany',\n 'Ghana',\n 'Gibraltar',\n 'Greece',\n 'Greenland',\n 'Grenada',\n 'Guadeloupe',\n 'Guatemala',\n 'Guinea',\n 'Guinea-Bissau',\n 'Guyana',\n 'Haiti',\n 'Honduras',\n 'Hong Kong',\n 'Hungary',\n 'Iceland',\n 'India',\n 'Indonesia',\n 'Iran',\n 'Iraq',\n 'Ireland',\n 'Isle of Man',\n 'Israel',\n 'Italy',\n 'Ivory Coast',\n 'Jamaica',\n 'Japan',\n 'Jordan',\n 'Kazakhstan',\n 'Kenya',\n 'Kuwait',\n 'Kyrgyzstan',\n 'Laos',\n 'Latvia',\n 'Lebanon',\n 'Liberia',\n 'Libya',\n 'Liechtenstein',\n 'Lithuania',\n 'Luxembourg',\n 'Macao',\n 'Madagascar',\n 'Malawi',\n 'Malaysia',\n 'Maldives',\n 'Mali',\n 'Malta',\n 'Martinique',\n 'Mauritania',\n 'Mauritius',\n 'Mayotte',\n 'Mexico',\n 'Moldova',\n 'Monaco',\n 'Mongolia',\n 'Montenegro',\n 'Montserrat',\n 'Morocco',\n 'Mozambique',\n 'MS Zaandam',\n 'Myanmar',\n 'Namibia',\n 'Nepal',\n 'Netherlands',\n 'New Caledonia',\n 'New Zealand',\n 'Nicaragua',\n 'Niger',\n 'Nigeria',\n '\\nNorth America\\n',\n 'North Macedonia',\n 'Norway',\n '\\nOceania\\n',\n 'Oman',\n 'Pakistan',\n 'Palestine',\n 'Panama',\n 'Papua New Guinea',\n 'Paraguay',\n 'Peru',\n 'Philippines',\n 'Poland',\n 'Portugal',\n 'Qatar',\n 'Romania',\n 'Russia',\n 'Rwanda',\n 'Réunion',\n 'S. Korea',\n 'Saint Kitts and Nevis',\n 'Saint Lucia',\n 'Saint Martin',\n 'Saint Pierre Miquelon',\n 'San Marino',\n 'Sao Tome and Principe',\n 'Saudi Arabia',\n 'Senegal',\n 'Serbia',\n 'Seychelles',\n 'Sierra Leone',\n 'Singapore',\n 'Sint Maarten',\n 'Slovakia',\n 'Slovenia',\n 'Somalia',\n 'South Africa',\n '\\nSouth America\\n',\n 'South Sudan',\n 'Spain',\n 'Sri Lanka',\n 'St. Barth',\n 'St. Vincent Grenadines',\n 'Sudan',\n 'Suriname',\n 'Sweden',\n 'Switzerland',\n 'Syria',\n 'Taiwan',\n 'Tanzania',\n 'Thailand',\n 'Timor-Leste',\n 'Togo',\n 'Trinidad and Tobago',\n 'Tunisia',\n 'Turkey',\n 'Turks and Caicos',\n 'UAE',\n 'Uganda',\n 'UK',\n 'Ukraine',\n 'Uruguay',\n 'USA',\n 'Uzbekistan',\n 'Vatican City',\n 'Venezuela',\n 'Vietnam',\n 'Western Sahara',\n 'World',\n 'Zambia',\n 'Zimbabwe']"
     },
     "metadata": {},
     "execution_count": 30
    }
   ],
   "source": [
    "CovidT['Country']"
   ]
  },
  {
   "cell_type": "markdown",
   "metadata": {},
   "source": [
    "## amazing so work no let's craete the dataframe"
   ]
  },
  {
   "cell_type": "code",
   "execution_count": 31,
   "metadata": {},
   "outputs": [],
   "source": [
    "CovidDF = pd.DataFrame(CovidT , columns= HL)"
   ]
  },
  {
   "cell_type": "code",
   "execution_count": 32,
   "metadata": {},
   "outputs": [
    {
     "output_type": "execute_result",
     "data": {
      "text/plain": "            Country TotalCases NewCases TotalDeaths NewDeaths TotalRecovered  \\\n0              \\n\\n        721                   13                      619   \n1       Afghanistan        444      +21         14                        29   \n2        \\nAfrica\\n     11,986     +794         576       +41          1,467   \n3           Albania        400      +17         22                       154   \n4           Algeria      1,572     +104        205        +12            237   \n..              ...        ...      ...         ...       ...            ...   \n214         Vietnam        251                                           126   \n215  Western Sahara          4                                                 \n216           World  1,517,960  +84,384      88,455    +6,414        330,266   \n217          Zambia         39                   1                         7   \n218        Zimbabwe         11                   3         +1                  \n\n    ActiveCases SeriousCritical TotCases_1M pop Deaths_1M pop TotalTests  \\\n0            89              10                                            \n1           401                              11           0.4              \n2         9,943             142                                            \n3           224               7             139             8      2,989   \n4         1,130              46              36             5      3,359   \n..          ...             ...             ...           ...        ...   \n214         125               8               3                  110,124   \n215           4                               7                            \n216   1,099,239          48,092             195          11.3              \n217          31               1               2          0.05      1,239   \n218           8                             0.7           0.2        371   \n\n    Tests_1M pop Continent  \n0                           \n1                     Asia  \n2                   Africa  \n3          1,039    Europe  \n4             77    Africa  \n..           ...       ...  \n214        1,131      Asia  \n215                 Africa  \n216                    All  \n217           67    Africa  \n218           25    Africa  \n\n[219 rows x 13 columns]",
      "text/html": "<div>\n<style scoped>\n    .dataframe tbody tr th:only-of-type {\n        vertical-align: middle;\n    }\n\n    .dataframe tbody tr th {\n        vertical-align: top;\n    }\n\n    .dataframe thead th {\n        text-align: right;\n    }\n</style>\n<table border=\"1\" class=\"dataframe\">\n  <thead>\n    <tr style=\"text-align: right;\">\n      <th></th>\n      <th>Country</th>\n      <th>TotalCases</th>\n      <th>NewCases</th>\n      <th>TotalDeaths</th>\n      <th>NewDeaths</th>\n      <th>TotalRecovered</th>\n      <th>ActiveCases</th>\n      <th>SeriousCritical</th>\n      <th>TotCases_1M pop</th>\n      <th>Deaths_1M pop</th>\n      <th>TotalTests</th>\n      <th>Tests_1M pop</th>\n      <th>Continent</th>\n    </tr>\n  </thead>\n  <tbody>\n    <tr>\n      <td>0</td>\n      <td>\\n\\n</td>\n      <td>721</td>\n      <td></td>\n      <td>13</td>\n      <td></td>\n      <td>619</td>\n      <td>89</td>\n      <td>10</td>\n      <td></td>\n      <td></td>\n      <td></td>\n      <td></td>\n      <td></td>\n    </tr>\n    <tr>\n      <td>1</td>\n      <td>Afghanistan</td>\n      <td>444</td>\n      <td>+21</td>\n      <td>14</td>\n      <td></td>\n      <td>29</td>\n      <td>401</td>\n      <td></td>\n      <td>11</td>\n      <td>0.4</td>\n      <td></td>\n      <td></td>\n      <td>Asia</td>\n    </tr>\n    <tr>\n      <td>2</td>\n      <td>\\nAfrica\\n</td>\n      <td>11,986</td>\n      <td>+794</td>\n      <td>576</td>\n      <td>+41</td>\n      <td>1,467</td>\n      <td>9,943</td>\n      <td>142</td>\n      <td></td>\n      <td></td>\n      <td></td>\n      <td></td>\n      <td>Africa</td>\n    </tr>\n    <tr>\n      <td>3</td>\n      <td>Albania</td>\n      <td>400</td>\n      <td>+17</td>\n      <td>22</td>\n      <td></td>\n      <td>154</td>\n      <td>224</td>\n      <td>7</td>\n      <td>139</td>\n      <td>8</td>\n      <td>2,989</td>\n      <td>1,039</td>\n      <td>Europe</td>\n    </tr>\n    <tr>\n      <td>4</td>\n      <td>Algeria</td>\n      <td>1,572</td>\n      <td>+104</td>\n      <td>205</td>\n      <td>+12</td>\n      <td>237</td>\n      <td>1,130</td>\n      <td>46</td>\n      <td>36</td>\n      <td>5</td>\n      <td>3,359</td>\n      <td>77</td>\n      <td>Africa</td>\n    </tr>\n    <tr>\n      <td>...</td>\n      <td>...</td>\n      <td>...</td>\n      <td>...</td>\n      <td>...</td>\n      <td>...</td>\n      <td>...</td>\n      <td>...</td>\n      <td>...</td>\n      <td>...</td>\n      <td>...</td>\n      <td>...</td>\n      <td>...</td>\n      <td>...</td>\n    </tr>\n    <tr>\n      <td>214</td>\n      <td>Vietnam</td>\n      <td>251</td>\n      <td></td>\n      <td></td>\n      <td></td>\n      <td>126</td>\n      <td>125</td>\n      <td>8</td>\n      <td>3</td>\n      <td></td>\n      <td>110,124</td>\n      <td>1,131</td>\n      <td>Asia</td>\n    </tr>\n    <tr>\n      <td>215</td>\n      <td>Western Sahara</td>\n      <td>4</td>\n      <td></td>\n      <td></td>\n      <td></td>\n      <td></td>\n      <td>4</td>\n      <td></td>\n      <td>7</td>\n      <td></td>\n      <td></td>\n      <td></td>\n      <td>Africa</td>\n    </tr>\n    <tr>\n      <td>216</td>\n      <td>World</td>\n      <td>1,517,960</td>\n      <td>+84,384</td>\n      <td>88,455</td>\n      <td>+6,414</td>\n      <td>330,266</td>\n      <td>1,099,239</td>\n      <td>48,092</td>\n      <td>195</td>\n      <td>11.3</td>\n      <td></td>\n      <td></td>\n      <td>All</td>\n    </tr>\n    <tr>\n      <td>217</td>\n      <td>Zambia</td>\n      <td>39</td>\n      <td></td>\n      <td>1</td>\n      <td></td>\n      <td>7</td>\n      <td>31</td>\n      <td>1</td>\n      <td>2</td>\n      <td>0.05</td>\n      <td>1,239</td>\n      <td>67</td>\n      <td>Africa</td>\n    </tr>\n    <tr>\n      <td>218</td>\n      <td>Zimbabwe</td>\n      <td>11</td>\n      <td></td>\n      <td>3</td>\n      <td>+1</td>\n      <td></td>\n      <td>8</td>\n      <td></td>\n      <td>0.7</td>\n      <td>0.2</td>\n      <td>371</td>\n      <td>25</td>\n      <td>Africa</td>\n    </tr>\n  </tbody>\n</table>\n<p>219 rows × 13 columns</p>\n</div>"
     },
     "metadata": {},
     "execution_count": 32
    }
   ],
   "source": [
    "CovidDF"
   ]
  },
  {
   "cell_type": "code",
   "execution_count": 100,
   "metadata": {},
   "outputs": [],
   "source": [
    "name = str(time.ctime()).replace(' ', '').replace(':','_') +'.csv'\n",
    "CovidDF.to_csv(name)\n",
    ""
   ]
  },
  {
   "cell_type": "code",
   "execution_count": 33,
   "metadata": {},
   "outputs": [],
   "source": [
    "name = '8_4_2020Covid19.csv'\n",
    "CovidDF.to_csv(name)"
   ]
  },
  {
   "cell_type": "code",
   "execution_count": null,
   "metadata": {},
   "outputs": [],
   "source": [
    "\n"
   ]
  }
 ]
}