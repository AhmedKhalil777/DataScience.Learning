{
 "nbformat": 4,
 "nbformat_minor": 2,
 "metadata": {
  "language_info": {
   "name": "python",
   "codemirror_mode": {
    "name": "ipython",
    "version": 3
   },
   "version": "3.7.4-final"
  },
  "orig_nbformat": 2,
  "file_extension": ".py",
  "mimetype": "text/x-python",
  "name": "python",
  "npconvert_exporter": "python",
  "pygments_lexer": "ipython3",
  "version": 3,
  "kernelspec": {
   "name": "python3",
   "display_name": "Python 3"
  }
 },
 "cells": [
  {
   "cell_type": "code",
   "execution_count": 15,
   "metadata": {},
   "outputs": [],
   "source": [
    "from selenium import webdriver\n",
    "from selenium.webdriver.common.keys import Keys\n",
    "from selenium.webdriver.chrome.options import Options\n",
    "import time\n",
    ""
   ]
  },
  {
   "cell_type": "code",
   "execution_count": 16,
   "metadata": {},
   "outputs": [],
   "source": [
    "# Options \n",
    "#Options = webdriver.ChromeOptions()\n",
    "#Options.add_argument('--ignore-certificate-error')\n",
    "#Options.add_argument('--incognitio')\n",
    "#Options.add_argument('--headless')\n",
    "#driver = webdriver.Chrome(options= Options)\n",
    "chromeOption = Options()\n",
    "chromeOption.add_argument('--kiosk')\n",
    "driver = webdriver.Chrome(options= chromeOption)\n",
    ""
   ]
  },
  {
   "cell_type": "code",
   "execution_count": 17,
   "metadata": {},
   "outputs": [],
   "source": [
    "\n",
    "driver.get('https://app.pluralsight.com/')"
   ]
  },
  {
   "cell_type": "code",
   "execution_count": null,
   "metadata": {},
   "outputs": [],
   "source": [
    "ele = driver.find_element_by_name('q')\n",
    "time.sleep(1)\n",
    "ele.clear()\n",
    "ele.send_keys('Ahmed Khalil')\n",
    "ele.send_keys(Keys.RETURN)\n"
   ]
  }
 ]
}