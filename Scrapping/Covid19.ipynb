{
 "nbformat": 4,
 "nbformat_minor": 2,
 "metadata": {
  "language_info": {
   "name": "python",
   "codemirror_mode": {
    "name": "ipython",
    "version": 3
   },
   "version": "3.7.4-final"
  },
  "orig_nbformat": 2,
  "file_extension": ".py",
  "mimetype": "text/x-python",
  "name": "python",
  "npconvert_exporter": "python",
  "pygments_lexer": "ipython3",
  "version": 3,
  "kernelspec": {
   "name": "python3",
   "display_name": "Python 3"
  }
 },
 "cells": [
  {
   "cell_type": "code",
   "execution_count": 1,
   "metadata": {},
   "outputs": [],
   "source": [
    "from selenium import webdriver\n",
    "from selenium.webdriver.common.keys import Keys\n",
    "from selenium.webdriver.chrome.options import Options\n",
    "import time\n",
    ""
   ]
  },
  {
   "cell_type": "code",
   "execution_count": null,
   "metadata": {},
   "outputs": [],
   "source": [
    "# Options \n",
    "#Options = webdriver.ChromeOptions()\n",
    "#Options.add_argument('--ignore-certificate-error')\n",
    "#Options.add_argument('--incognitio')\n",
    "#Options.add_argument('--headless')\n",
    "#driver = webdriver.Chrome(options= Options)\n",
    "chromeOption = Options()\n",
    "#chromeOption.add_argument('--kiosk')\n",
    "driver = webdriver.Chrome(options= chromeOption)\n",
    ""
   ]
  },
  {
   "cell_type": "code",
   "execution_count": 8,
   "metadata": {},
   "outputs": [],
   "source": [
    "\n",
    "driver.get('https://www.google.com/')\n",
    ""
   ]
  },
  {
   "cell_type": "code",
   "execution_count": 10,
   "metadata": {},
   "outputs": [],
   "source": [
    "ele = driver.find_element_by_name('q')\n",
    "time.sleep(10)\n",
    "ele.clear()\n",
    "ele.send_keys('Ahmed Khalil')\n",
    "ele.send_keys(Keys.RETURN)\n",
    ""
   ]
  },
  {
   "cell_type": "code",
   "execution_count": null,
   "metadata": {},
   "outputs": [],
   "source": []
  }
 ]
}